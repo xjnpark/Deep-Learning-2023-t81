{
 "cells": [
  {
   "cell_type": "markdown",
   "metadata": {},
   "source": [
    "# Class 02 Add "
   ]
  },
  {
   "cell_type": "markdown",
   "metadata": {},
   "source": [
    "## [Assignment Review-pdf](http://localhost:8888/files/%EC%88%AD%EC%8B%A4%EB%8C%80/2023_1%ED%95%99%EA%B8%B0/DL_2023/class01_asgn1/%EB%B3%91%ED%95%A9%EB%90%A8.pdf)"
   ]
  },
  {
   "cell_type": "markdown",
   "metadata": {},
   "source": [
    "## [Assignment Review-map](http://localhost:8888/notebooks/%EC%88%AD%EC%8B%A4%EB%8C%80/2023_1%ED%95%99%EA%B8%B0/t81_558_deep_learning-master_2023/Asgn01_rev-map.ipynb)"
   ]
  },
  {
   "cell_type": "markdown",
   "metadata": {},
   "source": [
    "## Python  \n",
    "### Operator  "
   ]
  },
  {
   "cell_type": "code",
   "execution_count": null,
   "metadata": {},
   "outputs": [],
   "source": [
    "# Modulo\n",
    "5 % 3 # remainder 2"
   ]
  },
  {
   "cell_type": "code",
   "execution_count": null,
   "metadata": {},
   "outputs": [],
   "source": [
    "5 // 3 # quotient 1"
   ]
  },
  {
   "cell_type": "markdown",
   "metadata": {},
   "source": [
    "### Math Functions"
   ]
  },
  {
   "cell_type": "code",
   "execution_count": null,
   "metadata": {},
   "outputs": [],
   "source": [
    "from math import * \n",
    "\n",
    "print(\"math.pi = \", math.pi) \n",
    "print(\"abs(-5) = \", abs(-5))\n",
    "print(\"math.exp(2)\",math.exp(2)) \n",
    "print(\"math.pow(2, 5) = \", math.pow(2, 5)) \n",
    "print(\"math.sqrt(24)  = \", math.sqrt(24))\n",
    "print(\"math.log(10) = \",math.log(10))\n",
    "print(\"math.log2(8) = \", math.log2(8))\n",
    "print(\"math.log10(100) = \", math.log10(100))\n",
    "print(\"math.e = \",math.e)  # Output: 2.718281828459045\n",
    "print(\"math.ceil(2.7) = \", math.ceil(2.7)) \n",
    "print(\"math.floor(2.7) = \", math.floor(2.7)) \n",
    "print(\"round(2.7) = \", round(2.7)) \n",
    "print(\"floor(2.7) = \",floor(2.7)) \n",
    "print(\"ceil(2.7) = \", ceil(2.7)) \n",
    "print(\"sqrt(16) = \",sqrt(16)) "
   ]
  },
  {
   "cell_type": "code",
   "execution_count": null,
   "metadata": {},
   "outputs": [],
   "source": [
    "from random import *\n",
    "print(\"random() = \",random()) # 0 ~ 1 \n",
    "print(\"randrange(1, 46) = \",randrange(1, 46)) # 1 ~ 45\n",
    "print(\"randint(1, 46) = \",randint(1, 46)) # 1 ~ 46"
   ]
  },
  {
   "cell_type": "markdown",
   "metadata": {},
   "source": [
    "### String"
   ]
  },
  {
   "cell_type": "code",
   "execution_count": null,
   "metadata": {},
   "outputs": [],
   "source": [
    "python = \"Python is Amazing\"\n",
    "\n",
    "print(python.lower()) # python is amazing\n",
    "print(python.upper()) # PYTHON IS AMAZING\n",
    "print(python[0].isupper()) # True : Check if the value of the 0th index is uppercase\n",
    "print(len(python)) # 17 : The total length of the string, including spaces \n",
    "print(python.replace(\"Python\", \"Java\")) # Java is Amazing"
   ]
  },
  {
   "cell_type": "markdown",
   "metadata": {},
   "source": [
    "### index() and find()"
   ]
  },
  {
   "cell_type": "code",
   "execution_count": null,
   "metadata": {},
   "outputs": [],
   "source": [
    "index = python.index(\"n\") # Index of n first discovered\n",
    "print(index) # 5 : n of Python\n",
    "index = python.index(\"n\", index + 1) # The first index of n found after the 6th index \n",
    "print(index) # 15 :  n of Amazing \n",
    "\n",
    "find = python.find(\"n\") # Index of n first discovered\n",
    "print(find) # 5 : n of Python\n",
    "find = python.find(\"n\", find + 1) # The first index of n found after the 6th index  \n",
    "print(find) # 15 : n of Amazing "
   ]
  },
  {
   "cell_type": "code",
   "execution_count": null,
   "metadata": {},
   "outputs": [],
   "source": [
    "print(python.index(\"Java\")) # An error occurs because Java is missing, and the program terminates\n",
    "print(python.find(\"Java\")) # If Java is not present, it returns (output) -1 and continues the program"
   ]
  },
  {
   "cell_type": "markdown",
   "metadata": {},
   "source": [
    "### String Format"
   ]
  },
  {
   "cell_type": "markdown",
   "metadata": {},
   "source": [
    "print(\"string **%d** string\" % **decimal**)\n",
    "\n",
    "print(\"string **%c** string\" % **character**)\n",
    "\n",
    "print(\"string **%s** string\" % **string and decimal**)"
   ]
  },
  {
   "cell_type": "code",
   "execution_count": null,
   "metadata": {},
   "outputs": [],
   "source": [
    "# Method 1\n",
    "\n",
    "print(\"I am %d years old.\" %20) # I am 20 years old\n",
    "print(\"I like %s\" %\"python\") # I like python\n",
    "print(\"Apple starts with %c.\" %\"A\") # Apple starts with A\n",
    "\n",
    "print(\"I am %s years old.\" % 20) # i am 20 years old (%s works for int)\n",
    "\n",
    "print(\"I like %s and %s.\" % (\"blue\", \"red\")) # I like blue and red."
   ]
  },
  {
   "cell_type": "code",
   "execution_count": null,
   "metadata": {},
   "outputs": [],
   "source": [
    "# Method 2\n",
    "\n",
    "print(\"I am {} years old.\".format(20)) # I am 20 years old\n",
    "print(\"I like {} and  {}.\".format(\"blue\", \"red\")) # I like blue and red\n",
    "print(\"I like {0} and {1}.\".format(\"blue\", \"red\")) # I like blue and red\n",
    "print(\"I like {1} and {0}.\".format(\"blue\", \"red\")) # I like blue and red"
   ]
  },
  {
   "cell_type": "markdown",
   "metadata": {},
   "source": [
    "### Standard input/output"
   ]
  },
  {
   "cell_type": "code",
   "execution_count": null,
   "metadata": {},
   "outputs": [],
   "source": [
    "print(\"Python\", \"Java\") # Python Java\n",
    "print(\"Python\" + \"Java\") # PythonJava\n",
    "print(\"Python\" , \"Java\", sep = \",\") # Python,Java\n",
    "print(\"Python\" , \"Java\", \"Pytorch\", sep = \" vs \") # Python vs Java vs Pytorch\n",
    "print(\"Python\" , \"Java\", \"Pytorch\", sep = \" vs \", end = \"?\") # Python vs Java vs Pytorch\n",
    "print(\"Python\" , \"Java\", \"Pytorch\", sep = \" vs \") # Python vs Java vs PytorchPython vs Java vs Pytorch"
   ]
  },
  {
   "cell_type": "code",
   "execution_count": null,
   "metadata": {},
   "outputs": [],
   "source": [
    "for num in range(1,20):\n",
    "    print(\"Your waiting number : \" + str(num))\n",
    "#     print(\"Your waiting number : \" + str(num).zfill(3))  \n"
   ]
  },
  {
   "cell_type": "code",
   "execution_count": null,
   "metadata": {},
   "outputs": [],
   "source": [
    "scores = {\"Math\": 20, \"Physics\": 50, \"Coding\": 100}\n",
    "for sub, scor in scores.items():\n",
    "#     print(sub,scor)\n",
    "    print(sub.ljust(8),str(scor).rjust(4), sep =\":\"    )"
   ]
  },
  {
   "cell_type": "code",
   "execution_count": null,
   "metadata": {},
   "outputs": [],
   "source": [
    "print(\"{0}\".format(500)) # 500\n",
    "print(\"{0: >10}\".format(500)) #        500\n",
    "print(\"{0:#>10}\".format(500)) # #######500\n",
    "print(\"{0: >+10}\".format(500)) #       +500\n",
    "print(\"{0:#<10}\".format(500)) # 500#######\n",
    "print(\"{0:#<10}\".format(-500)) # 500#######\n",
    "\n",
    "print(\"{0:,}\".format(50000000)) # 50,000,000\n",
    "print(\"{0:+,}\".format(50000000)) # +50,000,000\n",
    "print(\"{0:,}\".format(50000000)) # +50,000,000\n",
    "\n",
    "print(\"{0:f}\".format(5/3)) # 1.666667\n",
    "print(\"{0:.2f}\".format(5/3)) # 11.67\n",
    "print(\"{0:04d}\".format(100)) # 0100\n",
    "print(\"{0: 4d}\".format(100)) #  100"
   ]
  },
  {
   "cell_type": "code",
   "execution_count": null,
   "metadata": {},
   "outputs": [],
   "source": [
    "a = list(range(1,30+1))\n",
    "print(a) # list\n",
    "print(*a, sep=\" \") # not list\n"
   ]
  },
  {
   "cell_type": "code",
   "execution_count": null,
   "metadata": {},
   "outputs": [],
   "source": [
    "st_data = open(\"./data/students_roster_2023DL.csv\", \"r\", encoding=\"utf-8\")\n",
    "# print(st_data.read())\n",
    "st_lines = st_data.readlines()\n",
    "print(st_lines)\n",
    "# print(st_data)"
   ]
  },
  {
   "cell_type": "code",
   "execution_count": null,
   "metadata": {},
   "outputs": [],
   "source": [
    "st_lines[1]"
   ]
  },
  {
   "cell_type": "code",
   "execution_count": null,
   "metadata": {},
   "outputs": [],
   "source": [
    "# st_lines = st_data.readlines()\n",
    "for line in st_lines:\n",
    "    print(line)"
   ]
  },
  {
   "cell_type": "code",
   "execution_count": null,
   "metadata": {},
   "outputs": [],
   "source": [
    "st_data.close()\n"
   ]
  },
  {
   "cell_type": "code",
   "execution_count": null,
   "metadata": {},
   "outputs": [],
   "source": [
    "import pickle\n",
    "st_file = open(\"./data/st_line.pickle\", \"wb\")\n",
    "pickle.dump(st_lines,st_file)\n",
    "st_file.close()"
   ]
  },
  {
   "cell_type": "code",
   "execution_count": null,
   "metadata": {},
   "outputs": [],
   "source": [
    "st_file_r = open(\"./data/st_line.pickle\", \"rb\")\n",
    "st = pickle.load(st_file_r)\n",
    "# print(pickle.load(st_file_r))\n",
    "print(st[1])\n",
    "st_file_r.close()\n",
    "\n"
   ]
  },
  {
   "cell_type": "code",
   "execution_count": null,
   "metadata": {},
   "outputs": [],
   "source": [
    "list = []\n",
    "with open(\"./data/students_roster_2023DL.txt\", \"w\", encoding=\"utf-8\") as fw:\n",
    "    with open(\"./data/students_roster_2023DL.csv\", \"r\") as f:\n",
    "        while True:\n",
    "            line = f.readline()\n",
    "            if not line: # eof\n",
    "                break\n",
    "#             print(line[2:], file=fw)\n",
    "            list.append(line)\n",
    "    for l in list[1:]:\n",
    "        print(l, end=\"\\n\",file = fw)"
   ]
  },
  {
   "cell_type": "markdown",
   "metadata": {},
   "source": [
    "### JSON (JavaScript Object Notation)\n",
    "\n",
    "### Seoul Open Data Square : http://data.seoul.go.kr/dataList/OA-2734/F/1/datasetView.do"
   ]
  },
  {
   "cell_type": "code",
   "execution_count": null,
   "metadata": {},
   "outputs": [],
   "source": []
  },
  {
   "cell_type": "code",
   "execution_count": null,
   "metadata": {},
   "outputs": [],
   "source": [
    "import folium\n",
    "import pandas as pd\n",
    "import numpy as np\n",
    "import requests\n",
    "import json\n",
    "\n",
    "m = folium.Map(location=[40, -95], zoom_start=4)\n",
    "url = (\n",
    "    \"https://raw.githubusercontent.com/python-visualization/folium/master/examples/data\"\n",
    ")\n",
    "state_geo = f\"{url}/us-states.json\"\n",
    "r = requests.get(state_geo)\n",
    "c = r.content\n",
    "state_geo = json.loads(c)\n",
    "state_geo"
   ]
  },
  {
   "cell_type": "code",
   "execution_count": null,
   "metadata": {},
   "outputs": [],
   "source": [
    "state_unemployment = f\"{url}/US_Unemployment_Oct2012.csv\"\n",
    "state_data = pd.read_csv(state_unemployment)\n",
    "\n",
    "# type(state_data)\n",
    "\n",
    "folium.Choropleth(\n",
    "    geo_data=state_geo,\n",
    "    name=\"choropleth\",\n",
    "    data=state_data,\n",
    "    columns=[\"State\", \"Unemployment\"],\n",
    "    key_on=\"feature.id\",\n",
    "    fill_color=\"YlGn\",\n",
    "    fill_opacity=0.7,\n",
    "    line_opacity=.1,\n",
    "    legend_name=\"Unemployment Rate (%)\",\n",
    ").add_to(m)\n",
    "\n",
    "folium.LayerControl().add_to(m)\n",
    "\n",
    "m"
   ]
  },
  {
   "cell_type": "code",
   "execution_count": null,
   "metadata": {},
   "outputs": [],
   "source": [
    "korea =requests.get(\"https://raw.githubusercontent.com/southkorea/southkorea-maps/master/kostat/2013/json/skorea_municipalities_geo_simple.json\")\n",
    "korea_con = korea.content\n",
    "korea_geo = json.loads(korea_con)\n",
    "tiles = ['cartodbpositron', 'Stamen Terrain', 'Stamen Toner']\n",
    "korea_map = folium.Map(\n",
    "    location = ['36.38', '126.6'], #127′51″, 북위 36′38\n",
    "    zoom_start = 8,\n",
    "    tiles = tiles[1],\n",
    "    width = 1000,\n",
    "    height = 1000,\n",
    ")\n",
    "korea_map"
   ]
  },
  {
   "cell_type": "markdown",
   "metadata": {},
   "source": [
    "### Save as Excel and CSV file "
   ]
  },
  {
   "cell_type": "code",
   "execution_count": null,
   "metadata": {},
   "outputs": [],
   "source": [
    "names.to_csv('../output/scientist_names_series.csv')"
   ]
  },
  {
   "cell_type": "code",
   "execution_count": null,
   "metadata": {},
   "outputs": [],
   "source": [
    "scientists.to_csv('../output/scientists_df.tsv', sep='\\t')"
   ]
  },
  {
   "cell_type": "code",
   "execution_count": null,
   "metadata": {},
   "outputs": [],
   "source": [
    "scientists.to_csv('../output/scientists_df_no_index.csv', index=False)"
   ]
  },
  {
   "cell_type": "code",
   "execution_count": null,
   "metadata": {},
   "outputs": [],
   "source": [
    "names_df = names.to_frame() #frame 형식으로\n",
    "\n",
    "import xlwt \n",
    "names_df.to_excel('../output/scientists_names_series_df.xls')\n",
    "\n",
    "import openpyxl \n",
    "names_df.to_excel('../output/scientists_names_series_df.xlsx')"
   ]
  },
  {
   "cell_type": "code",
   "execution_count": null,
   "metadata": {},
   "outputs": [],
   "source": []
  }
 ],
 "metadata": {
  "anaconda-cloud": {},
  "kernelspec": {
   "display_name": "Python 3",
   "language": "python",
   "name": "python3"
  },
  "language_info": {
   "codemirror_mode": {
    "name": "ipython",
    "version": 3
   },
   "file_extension": ".py",
   "mimetype": "text/x-python",
   "name": "python",
   "nbconvert_exporter": "python",
   "pygments_lexer": "ipython3",
   "version": "3.7.3"
  }
 },
 "nbformat": 4,
 "nbformat_minor": 4
}
