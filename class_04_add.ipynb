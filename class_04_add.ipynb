{
 "cells": [
  {
   "cell_type": "markdown",
   "metadata": {},
   "source": [
    "<h1><center> Class_04_add</center></h1>"
   ]
  },
  {
   "cell_type": "markdown",
   "metadata": {},
   "source": [
    "#  Perceptron\n",
    "\n",
    "* Deep Learning from Scratch : https://www.ebook3000.co/deep-learning-from-scratch/\n",
    "\n",
    "* Perceptron is an algorithm developed by Frank Rosenblatt in 1957. **Perceptron is an algorithm that is the origin of neural networks(deep learning)**. Learning the structure of the perceptron is an important idea to advance into neural networks and deep learning.  \n",
    "\n",
    "* The most important basic unit of a neural network is the perceptron.  A perceptron is the smallest neural network unit that uses an input value and an activation function to pass an output value to the next.    \n",
    "    \n",
    "<img src = './images/neuron.png' width=400 height=100> \n",
    "\n",
    "<img src = './images/fig 1_1.png' width=410 height=100>  \n",
    "\n",
    "\n",
    "\n",
    "## What is perceptron\n",
    "\n",
    "* Perceptron receives **multiple signals** as inputs and outputs **one signal**. It is good to imagine that there is a flow like a electric current or a river. Like a electric current or a river, perceptron signal makes flow and forwards information. But perceptron signal can have two values : 'flow(1) / not flow(0)'.  \n",
    "\n",
    "\n",
    "\n",
    "\n",
    "[Figure 1]\n",
    "<img src = './images/fig 2-1.png' width=200 height=100>\n",
    "\n",
    "[Figure 1] is an example of perceptron that receives two signals as input. x1 and x2 are input signals, y is output signal, w1 and w2 are weights. Circle is called neuron or node. When the input signal is sent to a neuron, each unique weight is multiplied(w1x1, w2x2). Outputs 1 only when the sum of the signals sent from the neurons exceeds the specified limit(it is also referred to as 'neuron activate'). The limit is called the threshold and it is represented by a theta character.\n",
    "\n",
    "The above expression can be expressed as [Expression 1]\n",
    "\n",
    "[Expression 1]\n",
    "<img src = './images/e 2.1.png' width=200 height=100>\n",
    "\n",
    "Perceptrons give unique weights to each of the multiple input signals. The weights act as factors that control the effect each signal has on the outcome. In other words, the larger the weight, the more important the signal is.\n",
    "\n",
    "Substituting -b for theta in the above expression gives: \n",
    "    \n",
    "<img src = './images/e 2.2.png' width=200 height=100>\n",
    "\n",
    "b is the bias and w is the weight\n"
   ]
  },
  {
   "cell_type": "markdown",
   "metadata": {},
   "source": [
    "## Simple logic gate\n",
    "### AND, NAND, OR gate\n",
    "\n",
    ">   ### AND      : Both 1 => 1\n",
    ">   ### NAND :  One or Two 1 =>1  (Both 1 => 0)\n",
    ">   ### OR        : One or Two 1 =>1"
   ]
  },
  {
   "cell_type": "markdown",
   "metadata": {},
   "source": [
    "## Implementing Perceptron"
   ]
  },
  {
   "cell_type": "code",
   "execution_count": 123,
   "metadata": {},
   "outputs": [],
   "source": [
    "%matplotlib inline\n",
    "import math\n",
    "import time\n",
    "import numpy as np\n",
    "import tensorflow as tf\n",
    "# weight and bias functions\n",
    "\n",
    "def AND(x1, x2):\n",
    "    x = np.array([x1, x2]) # input\n",
    "    w = np.array([0.5, 0.5]) # weight\n",
    "    b = -0.7  #bias                  \n",
    "    tmp = np.sum(w * x) + b\n",
    "    if tmp <= 0:\n",
    "        return 0\n",
    "    else:\n",
    "        return 1\n",
    "\n",
    "\n",
    "def NAND(x1, x2):\n",
    "    x = np.array([x1, x2])\n",
    "    w = np.array([-0.5, -0.5])  # Only the w and b are different from AND.\n",
    "    b = 0.7\n",
    "    tmp = np.sum(w * x) + b\n",
    "    if tmp <= 0:\n",
    "        return 0\n",
    "    else:\n",
    "        return 1\n",
    "\n",
    "\n",
    "def OR(x1, x2):\n",
    "    x = np.array([x1, x2])\n",
    "    w = np.array([0.5, 0.5])  # nly the w and b are different from AND.\n",
    "    b = -0.2\n",
    "    tmp = np.sum(w * x) + b\n",
    "    if tmp <= 0:\n",
    "        return 0\n",
    "    else:\n",
    "        return 1"
   ]
  },
  {
   "cell_type": "code",
   "execution_count": 124,
   "metadata": {},
   "outputs": [
    {
     "name": "stdout",
     "output_type": "stream",
     "text": [
      "AND\n",
      "0\n",
      "0\n",
      "0\n",
      "1\n"
     ]
    }
   ],
   "source": [
    "print(\"AND\")\n",
    "print(AND(0, 0))  # 0\n",
    "print(AND(0, 1))  # 0\n",
    "print(AND(1, 0))  # 0\n",
    "print(AND(1, 1))  # 1"
   ]
  },
  {
   "cell_type": "code",
   "execution_count": 125,
   "metadata": {},
   "outputs": [
    {
     "name": "stdout",
     "output_type": "stream",
     "text": [
      "NAND\n",
      "1\n",
      "1\n",
      "1\n",
      "0\n"
     ]
    }
   ],
   "source": [
    "print(\"NAND\")\n",
    "print(NAND(0, 0))  # 1\n",
    "print(NAND(0, 1))  # 1\n",
    "print(NAND(1, 0))  # 1\n",
    "print(NAND(1, 1))  # 0"
   ]
  },
  {
   "cell_type": "code",
   "execution_count": 126,
   "metadata": {},
   "outputs": [
    {
     "name": "stdout",
     "output_type": "stream",
     "text": [
      "OR\n",
      "0\n",
      "1\n",
      "1\n",
      "1\n"
     ]
    }
   ],
   "source": [
    "print(\"OR\")\n",
    "print(OR(0, 0))  # 0\n",
    "print(OR(0, 1))  # 1\n",
    "print(OR(1, 0))  # 1\n",
    "print(OR(1, 1))  # 1"
   ]
  },
  {
   "cell_type": "markdown",
   "metadata": {},
   "source": [
    "## Limitations of Perceptron"
   ]
  },
  {
   "cell_type": "markdown",
   "metadata": {},
   "source": [
    "### XOR     : only when different values (Only one 1 => 1)  \n",
    "   >### Exclusive OR: Reject values that are equal to each other \n",
    "    (배타적 논리합 : 서로 같은 값을 거부함)\n",
    "    >### XOR is a two-layer perceptron. It has been proven that any function can be expressed by using a two-layer perceptron (= nonlinear signoid function) as an activation function.\n",
    "> ## Multilayer Perceptron (MLP)\n",
    "<img src = './images/fig 8.png' width=400 height=200>  \n"
   ]
  },
  {
   "cell_type": "markdown",
   "metadata": {},
   "source": [
    "#### The XOR gate cannot be implemented with a single-layer (linear) perceptron.  \n",
    ">####  = A single-layer perceptron cannot separate nonlinear regions.  \n",
    ">#### Can be implemented through multi-layer perceptron.\n",
    "\n",
    "#### Combining Existing Gates\n",
    "\n",
    ">### XOR(x1, x2) = AND(NAND(x1, x2), OR(x1, x2))"
   ]
  },
  {
   "cell_type": "code",
   "execution_count": 127,
   "metadata": {},
   "outputs": [],
   "source": [
    "# XOR gate\n",
    "\n",
    "def XOR(x1, x2):\n",
    "    s1 = NAND(x1, x2)\n",
    "    s2 = OR(x1, x2)\n",
    "    y = AND(s1, s2)\n",
    "    return y"
   ]
  },
  {
   "cell_type": "code",
   "execution_count": 128,
   "metadata": {},
   "outputs": [
    {
     "name": "stdout",
     "output_type": "stream",
     "text": [
      "XOR\n",
      "0\n",
      "1\n",
      "1\n",
      "0\n"
     ]
    }
   ],
   "source": [
    "print(\"XOR\")\n",
    "print(XOR(0, 0))  # 0\n",
    "print(XOR(0, 1))  # 1\n",
    "print(XOR(1, 0))  # 1\n",
    "print(XOR(1, 1))  # 0"
   ]
  },
  {
   "cell_type": "markdown",
   "metadata": {},
   "source": [
    "<img src = './images/xor.png' width=400 height=200>\n",
    "<img src = './images/xor_2.png' width=400 height=200>"
   ]
  },
  {
   "cell_type": "markdown",
   "metadata": {},
   "source": [
    "# XOR logic with two Dense layers"
   ]
  },
  {
   "cell_type": "code",
   "execution_count": 129,
   "metadata": {},
   "outputs": [],
   "source": [
    "from __future__ import absolute_import, division, print_function, unicode_literals\n",
    "\n",
    "try:\n",
    "  %tensorflow_version 2.x\n",
    "except Exception:\n",
    "  pass"
   ]
  },
  {
   "cell_type": "code",
   "execution_count": 130,
   "metadata": {},
   "outputs": [],
   "source": [
    "import tensorflow as tf\n",
    "from tensorflow.keras.layers import Dense\n",
    "from tensorflow.keras.models import Sequential\n",
    "# random seed for always same results\n",
    "tf.random.set_seed(678)"
   ]
  },
  {
   "cell_type": "code",
   "execution_count": 131,
   "metadata": {},
   "outputs": [],
   "source": [
    "import numpy as np"
   ]
  },
  {
   "cell_type": "code",
   "execution_count": 132,
   "metadata": {},
   "outputs": [
    {
     "name": "stdout",
     "output_type": "stream",
     "text": [
      "2.4.1\n"
     ]
    }
   ],
   "source": [
    "print(tf.__version__)"
   ]
  },
  {
   "cell_type": "markdown",
   "metadata": {},
   "source": [
    "# Inputs and Labels"
   ]
  },
  {
   "cell_type": "code",
   "execution_count": 133,
   "metadata": {},
   "outputs": [],
   "source": [
    "X_ = np.array([[0.,0.],[0.,1.],[1.,0.],[1.,1.]])\n",
    "y_ = np.array([0.,1.,1.,0.])"
   ]
  },
  {
   "cell_type": "markdown",
   "metadata": {},
   "source": [
    "# Two dense Layers"
   ]
  },
  {
   "cell_type": "code",
   "execution_count": 134,
   "metadata": {},
   "outputs": [],
   "source": [
    "model = Sequential()\n",
    "\n",
    "# first dense layer\n",
    "model.add(Dense(units=2,activation='sigmoid',input_dim=2))\n",
    "# second dense layer\n",
    "model.add(Dense(units=1,activation='sigmoid'))"
   ]
  },
  {
   "cell_type": "code",
   "execution_count": 135,
   "metadata": {},
   "outputs": [],
   "source": [
    "# loss function and optimization\n",
    "model.compile(loss='binary_crossentropy',optimizer='sgd',metrics=['accuracy'])"
   ]
  },
  {
   "cell_type": "code",
   "execution_count": 136,
   "metadata": {},
   "outputs": [
    {
     "name": "stdout",
     "output_type": "stream",
     "text": [
      "Model: \"sequential_5\"\n",
      "_________________________________________________________________\n",
      "Layer (type)                 Output Shape              Param #   \n",
      "=================================================================\n",
      "dense_11 (Dense)             (None, 2)                 6         \n",
      "_________________________________________________________________\n",
      "dense_12 (Dense)             (None, 1)                 3         \n",
      "=================================================================\n",
      "Total params: 9\n",
      "Trainable params: 9\n",
      "Non-trainable params: 0\n",
      "_________________________________________________________________\n",
      "None\n"
     ]
    }
   ],
   "source": [
    "# model summary\n",
    "print(model.summary())"
   ]
  },
  {
   "cell_type": "markdown",
   "metadata": {},
   "source": [
    "# Train"
   ]
  },
  {
   "cell_type": "code",
   "execution_count": 137,
   "metadata": {},
   "outputs": [
    {
     "data": {
      "text/plain": [
       "<tensorflow.python.keras.callbacks.History at 0x19c7f8b2a20>"
      ]
     },
     "execution_count": 137,
     "metadata": {},
     "output_type": "execute_result"
    }
   ],
   "source": [
    "# Train (takes about 3 minutes from Colab)\n",
    "model.fit(X_,y_,epochs=50000,batch_size=4,verbose=0)"
   ]
  },
  {
   "cell_type": "markdown",
   "metadata": {},
   "source": [
    "# Test"
   ]
  },
  {
   "cell_type": "markdown",
   "metadata": {},
   "source": [
    "[0, 0], [0, 1] outputs are less than 0.5,  \n",
    "[0, 1], [1, 0] outputs are greater than 0.5"
   ]
  },
  {
   "cell_type": "code",
   "execution_count": 138,
   "metadata": {},
   "outputs": [
    {
     "name": "stdout",
     "output_type": "stream",
     "text": [
      "[[0.06947979]\n",
      " [0.86743605]\n",
      " [0.8677261 ]\n",
      " [0.2499043 ]]\n"
     ]
    }
   ],
   "source": [
    "print(model.predict(X_,batch_size=4))"
   ]
  },
  {
   "cell_type": "markdown",
   "metadata": {},
   "source": [
    "# Printing First Dense layer's weights and bias"
   ]
  },
  {
   "cell_type": "markdown",
   "metadata": {},
   "source": [
    "> first node's weights are 3.5567355, 3.549393, bias is -5.4060693 \n",
    "> second node's weights are 5.79164, 5.7427516, bias is -2.3299"
   ]
  },
  {
   "cell_type": "code",
   "execution_count": 139,
   "metadata": {},
   "outputs": [
    {
     "name": "stdout",
     "output_type": "stream",
     "text": [
      "first layer weights:  [[-2.7477374 -5.467265 ]\n",
      " [-2.765913  -5.5713253]]\n",
      "first layer bias:  [3.8581967 1.7341115]\n"
     ]
    }
   ],
   "source": [
    "print(\"first layer weights: \",model.layers[0].get_weights()[0])\n",
    "print(\"first layer bias: \",model.layers[0].get_weights()[1])"
   ]
  },
  {
   "cell_type": "markdown",
   "metadata": {},
   "source": [
    "# Print Second Dense layer's weights and bias"
   ]
  },
  {
   "cell_type": "markdown",
   "metadata": {},
   "source": [
    ">weights are -7.8013854, 7.392064, bias is-3.3388186"
   ]
  },
  {
   "cell_type": "code",
   "execution_count": 140,
   "metadata": {},
   "outputs": [
    {
     "name": "stdout",
     "output_type": "stream",
     "text": [
      "second layer weights:  [[ 5.3055277]\n",
      " [-6.872516 ]]\n",
      "second layer bias:  [-1.9493619]\n"
     ]
    }
   ],
   "source": [
    "print(\"second layer weights: \",model.layers[1].get_weights()[0])\n",
    "print(\"second layer bias: \",model.layers[1].get_weights()[1])"
   ]
  },
  {
   "cell_type": "markdown",
   "metadata": {},
   "source": [
    "# calculate yourself and verify same result with TF dense layers"
   ]
  },
  {
   "cell_type": "code",
   "execution_count": 141,
   "metadata": {},
   "outputs": [],
   "source": [
    "import math\n",
    "\n",
    "def sigmoid(x):\n",
    "  return 1 / (1 + math.exp(-x))\n",
    "\n",
    "def get_output(x):\n",
    "    layer0 = model.layers[0]\n",
    "    # first dense layer, first node output\n",
    "    layer0_weights, layer0_bias = layer0.get_weights()\n",
    "    layer0_node0_weights = np.transpose(layer0_weights)[0]\n",
    "    layer0_node0_bias = layer0_bias[0]\n",
    "    layer0_node0_output = sigmoid( np.dot( x, layer0_node0_weights ) + layer0_node0_bias )\n",
    "    # second dense layer, second node output\n",
    "    layer0_node1_weights = np.transpose(layer0_weights)[1]\n",
    "    layer0_node1_bias = layer0_bias[1]\n",
    "    layer0_node1_output = sigmoid( np.dot( x, layer0_node1_weights ) + layer0_node1_bias )\n",
    "    # second layer output\n",
    "    layer1 = model.layers[1]\n",
    "    layer1_weights, layer1_bias = layer1.get_weights()\n",
    "    layer1_output = sigmoid( np.dot( [layer0_node0_output, layer0_node1_output], layer1_weights ) + layer1_bias )\n",
    "\n",
    "    print(layer1_output)"
   ]
  },
  {
   "cell_type": "code",
   "execution_count": 142,
   "metadata": {},
   "outputs": [
    {
     "name": "stdout",
     "output_type": "stream",
     "text": [
      "0.06947978261626493\n"
     ]
    }
   ],
   "source": [
    "get_output([0,0])"
   ]
  },
  {
   "cell_type": "code",
   "execution_count": 143,
   "metadata": {},
   "outputs": [
    {
     "name": "stdout",
     "output_type": "stream",
     "text": [
      "0.8674360204719486\n"
     ]
    }
   ],
   "source": [
    "get_output([0,1])"
   ]
  },
  {
   "cell_type": "code",
   "execution_count": 144,
   "metadata": {},
   "outputs": [
    {
     "name": "stdout",
     "output_type": "stream",
     "text": [
      "0.8677261423759945\n"
     ]
    }
   ],
   "source": [
    "get_output([1,0])"
   ]
  },
  {
   "cell_type": "code",
   "execution_count": 145,
   "metadata": {},
   "outputs": [
    {
     "name": "stdout",
     "output_type": "stream",
     "text": [
      "0.24990429967153485\n"
     ]
    }
   ],
   "source": [
    "get_output([1,1])"
   ]
  },
  {
   "cell_type": "markdown",
   "metadata": {},
   "source": [
    "# From perceptron to neural network\n",
    "\n",
    "Neural networks have much in common with the perceptrons described in the above. \n",
    "We describe the structure of neural networks, focusing on differences from perceptron.\n",
    "\n",
    "### Examples of neural networks\n",
    "\n",
    "If the neural network is shown as a picture, it becomes like Figure 3. Here, the leftmost line is the input layer, the rightmost line is the output layer, and the middle line is the hidden layer. The Neuron of the hidden layer (unlike the input layer and output layer) is not visible to the human eye. So it is 'Hidden'. In this book, we will say 0-layer, 1-layer, 2-layer in the direction of output layer from input layer. In Figure 3-1, the 0-layer is the input layer, the 1-layer is the hidden layer, and the 2-layer is the output layer.\n",
    "\n",
    "[Figure 3] Examples of neural networks\n",
    "<img src = './images/fig 3-15-1.png' width=400 height=200>\n",
    "\n",
    "Add bias and activation function\n",
    ">A function that converts the sum of input signals into an output signal is generally called an activation function (_h(x)_).\n",
    "<img src = './images/fig 3-4.png' width=200 height=100>\n"
   ]
  },
  {
   "cell_type": "markdown",
   "metadata": {},
   "source": [
    "## Activation Functions\n",
    "\n",
    "<img src = './images/fig 9.png' width=800 height=200>  "
   ]
  },
  {
   "cell_type": "markdown",
   "metadata": {},
   "source": [
    "### Gradient Loss Problem and Activation Function\n",
    "\n",
    "\n",
    "#### The multilayer perceptron met error backpropagation and became a neural network, and the neural network solves the XOR problem lightly, but the results are not as good as expected.\n",
    "\n",
    "#### Why?\n",
    "\n",
    "<img src = './images/fig 4.png' width=400 height=200>  \n",
    "\n",
    " * Backpropagation is a way to go backward one by one from the output layer and modify the weights of each layer  \n",
    " * Modifying the weights requires the derivative, i.e. the gradient  \n",
    " * However, as the layers increase, **the vanishing gradient** problem begins to occur, in which the gradient becomes 0 in the middle.\n",
    "\n",
    "<img src = './images/fig 5.png' width=400 height=200>  \n",
    "\n",
    "[sigmoid function]\n",
    "<img src = './images/fig 6.png' width=400 height=200>  \n",
    "* To solve this, we started replacing the activation function with a number of non-sigmoid functions.\n",
    "\n",
    "<img src = './images/fig 7.png' width=600 height=300>  \n",
    "\n",
    "* ReLU, proposed by Professor Jeffrey Hinton of the University of Toronto, is emerging as an alternative to sigmoid and is currently the most widely used activation function. Relu treats all values as 0 when x is less than 0, and uses x as it is for values greater than 0. Using this method, the derivative is 1 as long as x is greater than 0.  \n",
    "* Therefore, even if it is multiplied through several hidden layers, it can remain without disappearing until the first layer: the development of deep learning is accelerating.  "
   ]
  },
  {
   "cell_type": "markdown",
   "metadata": {},
   "source": [
    "### Implementing a 3-layer neural network"
   ]
  },
  {
   "cell_type": "markdown",
   "metadata": {},
   "source": [
    "<img src = './images/fig 3-15-2.png' width=500 height=300>  \n"
   ]
  },
  {
   "cell_type": "code",
   "execution_count": 146,
   "metadata": {},
   "outputs": [
    {
     "name": "stdout",
     "output_type": "stream",
     "text": [
      "[0.31682708 0.69627909]\n"
     ]
    }
   ],
   "source": [
    "\n",
    "def sigmoid(x):\n",
    "    return 1 / (1 + np.exp(-x))\n",
    "\n",
    "def identity_function(x):\n",
    "    return x\n",
    "\n",
    "def init_network():\n",
    "    network = {}\n",
    "    network['W1'] = np.array([[0.1, 0.3, 0.5], [0.2, 0.4, 0.6]])\n",
    "    network['b1'] = np.array([0.1, 0.2, 0.3])\n",
    "    network['W2'] = np.array([[0.1, 0.4], [0.2, 0.5], [0.3, 0.6]])\n",
    "    network['b2'] = np.array([0.1, 0.2])\n",
    "    network['W3'] = np.array([[0.1, 0.3], [0.2, 0.4]])\n",
    "    network['b3'] = np.array([0.1, 0.2])\n",
    "    \n",
    "    return network\n",
    "\n",
    "def forward(network, x):\n",
    "    W1, W2, W3 = network['W1'], network['W2'], network['W3']\n",
    "    b1, b2, b3 = network['b1'], network['b2'], network['b3']\n",
    "    \n",
    "    a1 = np.dot(x, W1) + b1\n",
    "    z1 = sigmoid(a1)\n",
    "    a2 = np.dot(z1, W2) + b2\n",
    "    z2 = sigmoid(a2)\n",
    "    a3 = np.dot(z2, W3) + b3\n",
    "    y = identity_function(a3)\n",
    "    \n",
    "    return y\n",
    "\n",
    "network = init_network()\n",
    "x = np.array([1.0, 0.5])\n",
    "y = forward(network, x)\n",
    "print(y) # [ 0.31682708 0.69627909 ]"
   ]
  },
  {
   "cell_type": "code",
   "execution_count": null,
   "metadata": {},
   "outputs": [],
   "source": []
  },
  {
   "cell_type": "markdown",
   "metadata": {},
   "source": [
    "# Linear Regression _Ex1_"
   ]
  },
  {
   "cell_type": "code",
   "execution_count": 149,
   "metadata": {},
   "outputs": [
    {
     "name": "stdout",
     "output_type": "stream",
     "text": [
      "Requirement already satisfied: xlrd in c:\\users\\owner\\anaconda\\lib\\site-packages (1.0.0)\n"
     ]
    },
    {
     "name": "stderr",
     "output_type": "stream",
     "text": [
      "WARNING: Ignoring invalid distribution -umpy (c:\\users\\owner\\anaconda\\lib\\site-packages)\n",
      "WARNING: Ignoring invalid distribution -rotobuf (c:\\users\\owner\\anaconda\\lib\\site-packages)\n",
      "WARNING: Ignoring invalid distribution -illow (c:\\users\\owner\\anaconda\\lib\\site-packages)\n",
      "WARNING: Ignoring invalid distribution -cipy (c:\\users\\owner\\anaconda\\lib\\site-packages)\n",
      "WARNING: Ignoring invalid distribution -umpy (c:\\users\\owner\\anaconda\\lib\\site-packages)\n",
      "WARNING: Ignoring invalid distribution -rotobuf (c:\\users\\owner\\anaconda\\lib\\site-packages)\n",
      "WARNING: Ignoring invalid distribution -illow (c:\\users\\owner\\anaconda\\lib\\site-packages)\n",
      "WARNING: Ignoring invalid distribution -cipy (c:\\users\\owner\\anaconda\\lib\\site-packages)\n",
      "WARNING: Ignoring invalid distribution -umpy (c:\\users\\owner\\anaconda\\lib\\site-packages)\n",
      "WARNING: Ignoring invalid distribution -rotobuf (c:\\users\\owner\\anaconda\\lib\\site-packages)\n",
      "WARNING: Ignoring invalid distribution -illow (c:\\users\\owner\\anaconda\\lib\\site-packages)\n",
      "WARNING: Ignoring invalid distribution -cipy (c:\\users\\owner\\anaconda\\lib\\site-packages)\n",
      "WARNING: Ignoring invalid distribution -umpy (c:\\users\\owner\\anaconda\\lib\\site-packages)\n",
      "WARNING: Ignoring invalid distribution -rotobuf (c:\\users\\owner\\anaconda\\lib\\site-packages)\n",
      "WARNING: Ignoring invalid distribution -illow (c:\\users\\owner\\anaconda\\lib\\site-packages)\n",
      "WARNING: Ignoring invalid distribution -cipy (c:\\users\\owner\\anaconda\\lib\\site-packages)\n",
      "WARNING: Ignoring invalid distribution -umpy (c:\\users\\owner\\anaconda\\lib\\site-packages)\n",
      "WARNING: Ignoring invalid distribution -rotobuf (c:\\users\\owner\\anaconda\\lib\\site-packages)\n",
      "WARNING: Ignoring invalid distribution -illow (c:\\users\\owner\\anaconda\\lib\\site-packages)\n",
      "WARNING: Ignoring invalid distribution -cipy (c:\\users\\owner\\anaconda\\lib\\site-packages)\n",
      "WARNING: Ignoring invalid distribution -umpy (c:\\users\\owner\\anaconda\\lib\\site-packages)\n",
      "WARNING: Ignoring invalid distribution -rotobuf (c:\\users\\owner\\anaconda\\lib\\site-packages)\n",
      "WARNING: Ignoring invalid distribution -illow (c:\\users\\owner\\anaconda\\lib\\site-packages)\n",
      "WARNING: Ignoring invalid distribution -cipy (c:\\users\\owner\\anaconda\\lib\\site-packages)\n"
     ]
    }
   ],
   "source": [
    "!pip install xlrd"
   ]
  },
  {
   "cell_type": "code",
   "execution_count": 1,
   "metadata": {},
   "outputs": [
    {
     "name": "stderr",
     "output_type": "stream",
     "text": [
      "C:\\Users\\Owner\\Anaconda\\lib\\site-packages\\numpy\\_distributor_init.py:32: UserWarning: loaded more than 1 DLL from .libs:\n",
      "C:\\Users\\Owner\\Anaconda\\lib\\site-packages\\numpy\\.libs\\libopenblas.PYQHXLVVQ7VESDPUVUADXEVJOBGHJPAY.gfortran-win_amd64.dll\n",
      "C:\\Users\\Owner\\Anaconda\\lib\\site-packages\\numpy\\.libs\\libopenblas.WCDJNK7YVMPZQ2ME2ZZHJJRJ3JIKNDB7.gfortran-win_amd64.dll\n",
      "  stacklevel=1)\n"
     ]
    }
   ],
   "source": [
    "from sklearn.linear_model import LinearRegression\n",
    "import pandas as pd\n",
    "import numpy as np\n",
    "import matplotlib.pyplot as plt"
   ]
  },
  {
   "cell_type": "code",
   "execution_count": 2,
   "metadata": {},
   "outputs": [
    {
     "data": {
      "text/plain": [
       "(20,)"
      ]
     },
     "execution_count": 2,
     "metadata": {},
     "output_type": "execute_result"
    }
   ],
   "source": [
    "seoul_born_death_mrg = pd.read_csv('./data/05 seoul_born_death_mrg_div_df.csv',  encoding='cp949') # utf-8 makes error (hangul)\n",
    "\n",
    "seoul_born_death_mrg\n",
    "\n",
    "seoul_pop = pd.read_excel('./data/02_1. Population_in_Seoul(2002_2021).xlsx',  encoding='cp949') # utf-8 makes error (hangul)\n",
    "seoul_pop\n",
    "\n",
    "sel_pop_tot = seoul_pop.iloc[1:2,[4,10,16,22,28,34,40,46,52,58,64,70,76,82,88,94,100,106,112,118]]\n",
    "sel_pop_tot.iloc[0].shape"
   ]
  },
  {
   "cell_type": "code",
   "execution_count": 3,
   "metadata": {},
   "outputs": [],
   "source": [
    "seoul_born_death_inc = seoul_born_death_mrg['# of born'] - seoul_born_death_mrg['# of death']"
   ]
  },
  {
   "cell_type": "code",
   "execution_count": 4,
   "metadata": {},
   "outputs": [
    {
     "data": {
      "text/html": [
       "<div>\n",
       "<style scoped>\n",
       "    .dataframe tbody tr th:only-of-type {\n",
       "        vertical-align: middle;\n",
       "    }\n",
       "\n",
       "    .dataframe tbody tr th {\n",
       "        vertical-align: top;\n",
       "    }\n",
       "\n",
       "    .dataframe thead th {\n",
       "        text-align: right;\n",
       "    }\n",
       "</style>\n",
       "<table border=\"1\" class=\"dataframe\">\n",
       "  <thead>\n",
       "    <tr style=\"text-align: right;\">\n",
       "      <th></th>\n",
       "      <th>Year</th>\n",
       "      <th># of marriges</th>\n",
       "      <th># of divorces</th>\n",
       "      <th># of death</th>\n",
       "      <th># of born</th>\n",
       "      <th># inc</th>\n",
       "      <th>tot_pop</th>\n",
       "    </tr>\n",
       "  </thead>\n",
       "  <tbody>\n",
       "    <tr>\n",
       "      <th>0</th>\n",
       "      <td>2002</td>\n",
       "      <td>72696</td>\n",
       "      <td>29351</td>\n",
       "      <td>38925</td>\n",
       "      <td>102008</td>\n",
       "      <td>63083</td>\n",
       "      <td>10207295</td>\n",
       "    </tr>\n",
       "    <tr>\n",
       "      <th>1</th>\n",
       "      <td>2003</td>\n",
       "      <td>72750</td>\n",
       "      <td>32499</td>\n",
       "      <td>38068</td>\n",
       "      <td>101227</td>\n",
       "      <td>63159</td>\n",
       "      <td>10174086</td>\n",
       "    </tr>\n",
       "    <tr>\n",
       "      <th>2</th>\n",
       "      <td>2004</td>\n",
       "      <td>71553</td>\n",
       "      <td>26994</td>\n",
       "      <td>38274</td>\n",
       "      <td>99828</td>\n",
       "      <td>61554</td>\n",
       "      <td>10173162</td>\n",
       "    </tr>\n",
       "    <tr>\n",
       "      <th>3</th>\n",
       "      <td>2005</td>\n",
       "      <td>71286</td>\n",
       "      <td>25300</td>\n",
       "      <td>38751</td>\n",
       "      <td>90468</td>\n",
       "      <td>51717</td>\n",
       "      <td>10167344</td>\n",
       "    </tr>\n",
       "    <tr>\n",
       "      <th>4</th>\n",
       "      <td>2006</td>\n",
       "      <td>73924</td>\n",
       "      <td>24354</td>\n",
       "      <td>38519</td>\n",
       "      <td>93922</td>\n",
       "      <td>55403</td>\n",
       "      <td>10181166</td>\n",
       "    </tr>\n",
       "    <tr>\n",
       "      <th>5</th>\n",
       "      <td>2007</td>\n",
       "      <td>76399</td>\n",
       "      <td>24615</td>\n",
       "      <td>39016</td>\n",
       "      <td>101249</td>\n",
       "      <td>62233</td>\n",
       "      <td>10192710</td>\n",
       "    </tr>\n",
       "    <tr>\n",
       "      <th>6</th>\n",
       "      <td>2008</td>\n",
       "      <td>71753</td>\n",
       "      <td>23319</td>\n",
       "      <td>38298</td>\n",
       "      <td>94736</td>\n",
       "      <td>56438</td>\n",
       "      <td>10200827</td>\n",
       "    </tr>\n",
       "    <tr>\n",
       "      <th>7</th>\n",
       "      <td>2009</td>\n",
       "      <td>68841</td>\n",
       "      <td>23920</td>\n",
       "      <td>38790</td>\n",
       "      <td>89594</td>\n",
       "      <td>50804</td>\n",
       "      <td>10208302</td>\n",
       "    </tr>\n",
       "    <tr>\n",
       "      <th>8</th>\n",
       "      <td>2010</td>\n",
       "      <td>70466</td>\n",
       "      <td>21768</td>\n",
       "      <td>40130</td>\n",
       "      <td>93266</td>\n",
       "      <td>53136</td>\n",
       "      <td>10312545</td>\n",
       "    </tr>\n",
       "    <tr>\n",
       "      <th>9</th>\n",
       "      <td>2011</td>\n",
       "      <td>71519</td>\n",
       "      <td>20617</td>\n",
       "      <td>40320</td>\n",
       "      <td>91526</td>\n",
       "      <td>51206</td>\n",
       "      <td>10249679</td>\n",
       "    </tr>\n",
       "    <tr>\n",
       "      <th>10</th>\n",
       "      <td>2012</td>\n",
       "      <td>71695</td>\n",
       "      <td>20177</td>\n",
       "      <td>41514</td>\n",
       "      <td>93914</td>\n",
       "      <td>52400</td>\n",
       "      <td>10195318</td>\n",
       "    </tr>\n",
       "    <tr>\n",
       "      <th>11</th>\n",
       "      <td>2013</td>\n",
       "      <td>68819</td>\n",
       "      <td>20126</td>\n",
       "      <td>42063</td>\n",
       "      <td>84066</td>\n",
       "      <td>42003</td>\n",
       "      <td>10143645</td>\n",
       "    </tr>\n",
       "    <tr>\n",
       "      <th>12</th>\n",
       "      <td>2014</td>\n",
       "      <td>64823</td>\n",
       "      <td>19477</td>\n",
       "      <td>42153</td>\n",
       "      <td>83711</td>\n",
       "      <td>41558</td>\n",
       "      <td>10103233</td>\n",
       "    </tr>\n",
       "    <tr>\n",
       "      <th>13</th>\n",
       "      <td>2015</td>\n",
       "      <td>64193</td>\n",
       "      <td>18176</td>\n",
       "      <td>43053</td>\n",
       "      <td>83005</td>\n",
       "      <td>39952</td>\n",
       "      <td>10022181</td>\n",
       "    </tr>\n",
       "    <tr>\n",
       "      <th>14</th>\n",
       "      <td>2016</td>\n",
       "      <td>57643</td>\n",
       "      <td>17777</td>\n",
       "      <td>43540</td>\n",
       "      <td>75536</td>\n",
       "      <td>31996</td>\n",
       "      <td>9930616</td>\n",
       "    </tr>\n",
       "    <tr>\n",
       "      <th>15</th>\n",
       "      <td>2017</td>\n",
       "      <td>53776</td>\n",
       "      <td>17083</td>\n",
       "      <td>42932</td>\n",
       "      <td>65389</td>\n",
       "      <td>22457</td>\n",
       "      <td>9857426</td>\n",
       "    </tr>\n",
       "    <tr>\n",
       "      <th>16</th>\n",
       "      <td>2018</td>\n",
       "      <td>52005</td>\n",
       "      <td>16940</td>\n",
       "      <td>45219</td>\n",
       "      <td>58074</td>\n",
       "      <td>12855</td>\n",
       "      <td>9765623</td>\n",
       "    </tr>\n",
       "    <tr>\n",
       "      <th>17</th>\n",
       "      <td>2019</td>\n",
       "      <td>48261</td>\n",
       "      <td>16972</td>\n",
       "      <td>43829</td>\n",
       "      <td>53673</td>\n",
       "      <td>9844</td>\n",
       "      <td>9729107</td>\n",
       "    </tr>\n",
       "    <tr>\n",
       "      <th>18</th>\n",
       "      <td>2020</td>\n",
       "      <td>44746</td>\n",
       "      <td>16282</td>\n",
       "      <td>45522</td>\n",
       "      <td>47445</td>\n",
       "      <td>1923</td>\n",
       "      <td>9668465</td>\n",
       "    </tr>\n",
       "    <tr>\n",
       "      <th>19</th>\n",
       "      <td>2021</td>\n",
       "      <td>37012</td>\n",
       "      <td>14967</td>\n",
       "      <td>48798</td>\n",
       "      <td>45531</td>\n",
       "      <td>-3267</td>\n",
       "      <td>9509458</td>\n",
       "    </tr>\n",
       "  </tbody>\n",
       "</table>\n",
       "</div>"
      ],
      "text/plain": [
       "    Year  # of marriges  # of divorces  # of death  # of born  # inc   tot_pop\n",
       "0   2002          72696          29351       38925     102008  63083  10207295\n",
       "1   2003          72750          32499       38068     101227  63159  10174086\n",
       "2   2004          71553          26994       38274      99828  61554  10173162\n",
       "3   2005          71286          25300       38751      90468  51717  10167344\n",
       "4   2006          73924          24354       38519      93922  55403  10181166\n",
       "5   2007          76399          24615       39016     101249  62233  10192710\n",
       "6   2008          71753          23319       38298      94736  56438  10200827\n",
       "7   2009          68841          23920       38790      89594  50804  10208302\n",
       "8   2010          70466          21768       40130      93266  53136  10312545\n",
       "9   2011          71519          20617       40320      91526  51206  10249679\n",
       "10  2012          71695          20177       41514      93914  52400  10195318\n",
       "11  2013          68819          20126       42063      84066  42003  10143645\n",
       "12  2014          64823          19477       42153      83711  41558  10103233\n",
       "13  2015          64193          18176       43053      83005  39952  10022181\n",
       "14  2016          57643          17777       43540      75536  31996   9930616\n",
       "15  2017          53776          17083       42932      65389  22457   9857426\n",
       "16  2018          52005          16940       45219      58074  12855   9765623\n",
       "17  2019          48261          16972       43829      53673   9844   9729107\n",
       "18  2020          44746          16282       45522      47445   1923   9668465\n",
       "19  2021          37012          14967       48798      45531  -3267   9509458"
      ]
     },
     "execution_count": 4,
     "metadata": {},
     "output_type": "execute_result"
    }
   ],
   "source": [
    "seoul_born_death_mrg['# inc'] = seoul_born_death_inc\n",
    "seoul_born_death_mrg['tot_pop'] = list(sel_pop_tot.iloc[0])\n",
    "\n",
    "seoul_born_death_mrg"
   ]
  },
  {
   "cell_type": "code",
   "execution_count": 5,
   "metadata": {},
   "outputs": [],
   "source": [
    "x=seoul_born_death_mrg['Year']\n",
    "y=seoul_born_death_mrg['# of born']"
   ]
  },
  {
   "cell_type": "code",
   "execution_count": 6,
   "metadata": {},
   "outputs": [
    {
     "data": {
      "image/png": "[encoded data removed]",
      "text/plain": [
       "<Figure size 432x288 with 1 Axes>"
      ]
     },
     "metadata": {
      "needs_background": "light"
     },
     "output_type": "display_data"
    }
   ],
   "source": [
    "plt.plot(x, y, 'o')\n",
    "plt.show()"
   ]
  },
  {
   "cell_type": "code",
   "execution_count": 7,
   "metadata": {},
   "outputs": [
    {
     "data": {
      "text/plain": [
       "LinearRegression(copy_X=True, fit_intercept=True, n_jobs=None,\n",
       "         normalize=False)"
      ]
     },
     "execution_count": 7,
     "metadata": {},
     "output_type": "execute_result"
    }
   ],
   "source": [
    "line_fitter = LinearRegression()\n",
    "line_fitter.fit(x.values.reshape(-1,1), y)"
   ]
  },
  {
   "cell_type": "code",
   "execution_count": 8,
   "metadata": {},
   "outputs": [
    {
     "data": {
      "text/plain": [
       "array([29790.11578947])"
      ]
     },
     "execution_count": 8,
     "metadata": {},
     "output_type": "execute_result"
    }
   ],
   "source": [
    "line_fitter.predict([[2030]])"
   ]
  },
  {
   "cell_type": "code",
   "execution_count": 9,
   "metadata": {},
   "outputs": [
    {
     "data": {
      "text/plain": [
       "array([-2844.23157895])"
      ]
     },
     "execution_count": 9,
     "metadata": {},
     "output_type": "execute_result"
    }
   ],
   "source": [
    "line_fitter.coef_ # slope"
   ]
  },
  {
   "cell_type": "code",
   "execution_count": 10,
   "metadata": {},
   "outputs": [
    {
     "data": {
      "text/plain": [
       "5803580.221052634"
      ]
     },
     "execution_count": 10,
     "metadata": {},
     "output_type": "execute_result"
    }
   ],
   "source": [
    "line_fitter.intercept_ # y bias 절편"
   ]
  },
  {
   "cell_type": "code",
   "execution_count": 11,
   "metadata": {},
   "outputs": [
    {
     "data": {
      "image/png": "[encoded data removed]",
      "text/plain": [
       "<Figure size 432x288 with 1 Axes>"
      ]
     },
     "metadata": {
      "needs_background": "light"
     },
     "output_type": "display_data"
    }
   ],
   "source": [
    "plt.plot(x, y, 'o')\n",
    "plt.plot(x,line_fitter.predict(x.values.reshape(-1,1)))\n",
    "plt.show()"
   ]
  },
  {
   "cell_type": "code",
   "execution_count": 12,
   "metadata": {},
   "outputs": [
    {
     "data": {
      "image/png": "[encoded data removed]",
      "text/plain": [
       "<Figure size 432x288 with 1 Axes>"
      ]
     },
     "metadata": {
      "needs_background": "light"
     },
     "output_type": "display_data"
    }
   ],
   "source": [
    "x=seoul_born_death_mrg['Year']\n",
    "y2=seoul_born_death_mrg['tot_pop']\n",
    "line_fitter = LinearRegression()\n",
    "line_fitter.fit(x.values.reshape(-1,1), y2)\n",
    "plt.plot(x, y2, 'x')\n",
    "plt.plot(x,line_fitter.predict(x.values.reshape(-1,1)))\n",
    "plt.show()"
   ]
  },
  {
   "cell_type": "code",
   "execution_count": 13,
   "metadata": {},
   "outputs": [
    {
     "data": {
      "image/png": "[encoded data removed]",
      "text/plain": [
       "<Figure size 432x288 with 1 Axes>"
      ]
     },
     "metadata": {
      "needs_background": "light"
     },
     "output_type": "display_data"
    }
   ],
   "source": [
    "x3=seoul_born_death_mrg['# of born']\n",
    "y3=seoul_born_death_mrg['tot_pop']\n",
    "line_fitter.fit(x3.values.reshape(-1,1), y3)\n",
    "plt.plot(x3.values.reshape(-1,1), y3, 'x')\n",
    "plt.plot(x3,line_fitter.predict(x3.values.reshape(-1,1)))\n",
    "plt.show()"
   ]
  },
  {
   "cell_type": "markdown",
   "metadata": {},
   "source": [
    "# Linear Regression _Ex 2_\n",
    "<a href=\"http://www.data4sci.com/\">www.data4sci.com</a>"
   ]
  },
  {
   "cell_type": "code",
   "execution_count": 14,
   "metadata": {},
   "outputs": [
    {
     "ename": "OSError",
     "evalue": "'./class_04_d4sci.style' not found in the style library and input is not a valid URL or path; see `style.available` for list of available styles",
     "output_type": "error",
     "traceback": [
      "\u001b[1;31m---------------------------------------------------------------------------\u001b[0m",
      "\u001b[1;31mFileNotFoundError\u001b[0m                         Traceback (most recent call last)",
      "\u001b[1;32m~\\Anaconda\\lib\\site-packages\\matplotlib\\style\\core.py\u001b[0m in \u001b[0;36muse\u001b[1;34m(style)\u001b[0m\n\u001b[0;32m    110\u001b[0m             \u001b[1;32mtry\u001b[0m\u001b[1;33m:\u001b[0m\u001b[1;33m\u001b[0m\u001b[1;33m\u001b[0m\u001b[0m\n\u001b[1;32m--> 111\u001b[1;33m                 \u001b[0mrc\u001b[0m \u001b[1;33m=\u001b[0m \u001b[0mrc_params_from_file\u001b[0m\u001b[1;33m(\u001b[0m\u001b[0mstyle\u001b[0m\u001b[1;33m,\u001b[0m \u001b[0muse_default_template\u001b[0m\u001b[1;33m=\u001b[0m\u001b[1;32mFalse\u001b[0m\u001b[1;33m)\u001b[0m\u001b[1;33m\u001b[0m\u001b[1;33m\u001b[0m\u001b[0m\n\u001b[0m\u001b[0;32m    112\u001b[0m                 \u001b[0m_apply_style\u001b[0m\u001b[1;33m(\u001b[0m\u001b[0mrc\u001b[0m\u001b[1;33m)\u001b[0m\u001b[1;33m\u001b[0m\u001b[1;33m\u001b[0m\u001b[0m\n",
      "\u001b[1;32m~\\Anaconda\\lib\\site-packages\\matplotlib\\__init__.py\u001b[0m in \u001b[0;36mrc_params_from_file\u001b[1;34m(fname, fail_on_error, use_default_template)\u001b[0m\n\u001b[0;32m   1069\u001b[0m     \"\"\"\n\u001b[1;32m-> 1070\u001b[1;33m     \u001b[0mconfig_from_file\u001b[0m \u001b[1;33m=\u001b[0m \u001b[0m_rc_params_in_file\u001b[0m\u001b[1;33m(\u001b[0m\u001b[0mfname\u001b[0m\u001b[1;33m,\u001b[0m \u001b[0mfail_on_error\u001b[0m\u001b[1;33m)\u001b[0m\u001b[1;33m\u001b[0m\u001b[1;33m\u001b[0m\u001b[0m\n\u001b[0m\u001b[0;32m   1071\u001b[0m \u001b[1;33m\u001b[0m\u001b[0m\n",
      "\u001b[1;32m~\\Anaconda\\lib\\site-packages\\matplotlib\\__init__.py\u001b[0m in \u001b[0;36m_rc_params_in_file\u001b[1;34m(fname, fail_on_error)\u001b[0m\n\u001b[0;32m    985\u001b[0m     \u001b[0mrc_temp\u001b[0m \u001b[1;33m=\u001b[0m \u001b[1;33m{\u001b[0m\u001b[1;33m}\u001b[0m\u001b[1;33m\u001b[0m\u001b[1;33m\u001b[0m\u001b[0m\n\u001b[1;32m--> 986\u001b[1;33m     \u001b[1;32mwith\u001b[0m \u001b[0m_open_file_or_url\u001b[0m\u001b[1;33m(\u001b[0m\u001b[0mfname\u001b[0m\u001b[1;33m)\u001b[0m \u001b[1;32mas\u001b[0m \u001b[0mfd\u001b[0m\u001b[1;33m:\u001b[0m\u001b[1;33m\u001b[0m\u001b[1;33m\u001b[0m\u001b[0m\n\u001b[0m\u001b[0;32m    987\u001b[0m         \u001b[1;32mtry\u001b[0m\u001b[1;33m:\u001b[0m\u001b[1;33m\u001b[0m\u001b[1;33m\u001b[0m\u001b[0m\n",
      "\u001b[1;32m~\\Anaconda\\lib\\contextlib.py\u001b[0m in \u001b[0;36m__enter__\u001b[1;34m(self)\u001b[0m\n\u001b[0;32m    111\u001b[0m         \u001b[1;32mtry\u001b[0m\u001b[1;33m:\u001b[0m\u001b[1;33m\u001b[0m\u001b[1;33m\u001b[0m\u001b[0m\n\u001b[1;32m--> 112\u001b[1;33m             \u001b[1;32mreturn\u001b[0m \u001b[0mnext\u001b[0m\u001b[1;33m(\u001b[0m\u001b[0mself\u001b[0m\u001b[1;33m.\u001b[0m\u001b[0mgen\u001b[0m\u001b[1;33m)\u001b[0m\u001b[1;33m\u001b[0m\u001b[1;33m\u001b[0m\u001b[0m\n\u001b[0m\u001b[0;32m    113\u001b[0m         \u001b[1;32mexcept\u001b[0m \u001b[0mStopIteration\u001b[0m\u001b[1;33m:\u001b[0m\u001b[1;33m\u001b[0m\u001b[1;33m\u001b[0m\u001b[0m\n",
      "\u001b[1;32m~\\Anaconda\\lib\\site-packages\\matplotlib\\__init__.py\u001b[0m in \u001b[0;36m_open_file_or_url\u001b[1;34m(fname)\u001b[0m\n\u001b[0;32m    970\u001b[0m             \u001b[0mencoding\u001b[0m \u001b[1;33m=\u001b[0m \u001b[1;34m\"utf-8\"\u001b[0m\u001b[1;33m\u001b[0m\u001b[1;33m\u001b[0m\u001b[0m\n\u001b[1;32m--> 971\u001b[1;33m         \u001b[1;32mwith\u001b[0m \u001b[0mopen\u001b[0m\u001b[1;33m(\u001b[0m\u001b[0mfname\u001b[0m\u001b[1;33m,\u001b[0m \u001b[0mencoding\u001b[0m\u001b[1;33m=\u001b[0m\u001b[0mencoding\u001b[0m\u001b[1;33m)\u001b[0m \u001b[1;32mas\u001b[0m \u001b[0mf\u001b[0m\u001b[1;33m:\u001b[0m\u001b[1;33m\u001b[0m\u001b[1;33m\u001b[0m\u001b[0m\n\u001b[0m\u001b[0;32m    972\u001b[0m             \u001b[1;32myield\u001b[0m \u001b[0mf\u001b[0m\u001b[1;33m\u001b[0m\u001b[1;33m\u001b[0m\u001b[0m\n",
      "\u001b[1;31mFileNotFoundError\u001b[0m: [Errno 2] No such file or directory: './class_04_d4sci.style'",
      "\nDuring handling of the above exception, another exception occurred:\n",
      "\u001b[1;31mOSError\u001b[0m                                   Traceback (most recent call last)",
      "\u001b[1;32m<ipython-input-14-c3bf6019326d>\u001b[0m in \u001b[0;36m<module>\u001b[1;34m\u001b[0m\n\u001b[0;32m      5\u001b[0m \u001b[0mget_ipython\u001b[0m\u001b[1;33m(\u001b[0m\u001b[1;33m)\u001b[0m\u001b[1;33m.\u001b[0m\u001b[0mrun_line_magic\u001b[0m\u001b[1;33m(\u001b[0m\u001b[1;34m'matplotlib'\u001b[0m\u001b[1;33m,\u001b[0m \u001b[1;34m'inline'\u001b[0m\u001b[1;33m)\u001b[0m\u001b[1;33m\u001b[0m\u001b[1;33m\u001b[0m\u001b[0m\n\u001b[0;32m      6\u001b[0m \u001b[1;33m\u001b[0m\u001b[0m\n\u001b[1;32m----> 7\u001b[1;33m \u001b[0mplt\u001b[0m\u001b[1;33m.\u001b[0m\u001b[0mstyle\u001b[0m\u001b[1;33m.\u001b[0m\u001b[0muse\u001b[0m\u001b[1;33m(\u001b[0m\u001b[1;34m'./class_04_d4sci.style'\u001b[0m\u001b[1;33m)\u001b[0m\u001b[1;33m\u001b[0m\u001b[1;33m\u001b[0m\u001b[0m\n\u001b[0m",
      "\u001b[1;32m~\\Anaconda\\lib\\site-packages\\matplotlib\\style\\core.py\u001b[0m in \u001b[0;36muse\u001b[1;34m(style)\u001b[0m\n\u001b[0;32m    115\u001b[0m                     \u001b[1;34m\"{!r} not found in the style library and input is not a \"\u001b[0m\u001b[1;33m\u001b[0m\u001b[1;33m\u001b[0m\u001b[0m\n\u001b[0;32m    116\u001b[0m                     \u001b[1;34m\"valid URL or path; see `style.available` for list of \"\u001b[0m\u001b[1;33m\u001b[0m\u001b[1;33m\u001b[0m\u001b[0m\n\u001b[1;32m--> 117\u001b[1;33m                     \"available styles\".format(style))\n\u001b[0m\u001b[0;32m    118\u001b[0m \u001b[1;33m\u001b[0m\u001b[0m\n\u001b[0;32m    119\u001b[0m \u001b[1;33m\u001b[0m\u001b[0m\n",
      "\u001b[1;31mOSError\u001b[0m: './class_04_d4sci.style' not found in the style library and input is not a valid URL or path; see `style.available` for list of available styles"
     ]
    }
   ],
   "source": [
    "import numpy as np\n",
    "import matplotlib\n",
    "import matplotlib.pyplot as plt\n",
    "\n",
    "%matplotlib inline\n",
    "\n",
    "plt.style.use('./class_04_d4sci.style')"
   ]
  },
  {
   "cell_type": "markdown",
   "metadata": {},
   "source": [
    "## Load dataset"
   ]
  },
  {
   "cell_type": "code",
   "execution_count": 15,
   "metadata": {},
   "outputs": [
    {
     "name": "stdout",
     "output_type": "stream",
     "text": [
      "[[10.    8.04]\n",
      " [ 8.    6.95]\n",
      " [13.    7.58]\n",
      " [ 9.    8.81]\n",
      " [11.    8.33]\n",
      " [14.    9.96]\n",
      " [ 6.    7.24]\n",
      " [ 4.    4.26]\n",
      " [12.   10.84]\n",
      " [ 7.    4.82]\n",
      " [ 5.    5.68]]\n"
     ]
    }
   ],
   "source": [
    "data = np.array(np.loadtxt(\"./data/Anscombe1.dat\"))\n",
    "\n",
    "print(data)"
   ]
  },
  {
   "cell_type": "code",
   "execution_count": 16,
   "metadata": {},
   "outputs": [],
   "source": [
    "X = data[:, 0].reshape(-1, 1)\n",
    "y = data[:, 1].reshape(-1, 1)"
   ]
  },
  {
   "cell_type": "code",
   "execution_count": 17,
   "metadata": {},
   "outputs": [
    {
     "data": {
      "text/plain": [
       "array([[10.],\n",
       "       [ 8.],\n",
       "       [13.],\n",
       "       [ 9.],\n",
       "       [11.],\n",
       "       [14.],\n",
       "       [ 6.],\n",
       "       [ 4.],\n",
       "       [12.],\n",
       "       [ 7.],\n",
       "       [ 5.]])"
      ]
     },
     "execution_count": 17,
     "metadata": {},
     "output_type": "execute_result"
    }
   ],
   "source": [
    "X"
   ]
  },
  {
   "cell_type": "code",
   "execution_count": 18,
   "metadata": {},
   "outputs": [
    {
     "data": {
      "text/plain": [
       "array([[ 8.04],\n",
       "       [ 6.95],\n",
       "       [ 7.58],\n",
       "       [ 8.81],\n",
       "       [ 8.33],\n",
       "       [ 9.96],\n",
       "       [ 7.24],\n",
       "       [ 4.26],\n",
       "       [10.84],\n",
       "       [ 4.82],\n",
       "       [ 5.68]])"
      ]
     },
     "execution_count": 18,
     "metadata": {},
     "output_type": "execute_result"
    }
   ],
   "source": [
    "y"
   ]
  },
  {
   "cell_type": "code",
   "execution_count": 19,
   "metadata": {},
   "outputs": [
    {
     "data": {
      "text/plain": [
       "<matplotlib.legend.Legend at 0x1d590d73860>"
      ]
     },
     "execution_count": 19,
     "metadata": {},
     "output_type": "execute_result"
    },
    {
     "data": {
      "image/png": "[encoded data removed]",
      "text/plain": [
       "<Figure size 432x288 with 1 Axes>"
      ]
     },
     "metadata": {
      "needs_background": "light"
     },
     "output_type": "display_data"
    }
   ],
   "source": [
    "plt.plot(X, y, '.', markersize= 30, label='points')\n",
    "plt.xlabel('X')\n",
    "plt.ylabel('y')\n",
    "plt.legend()"
   ]
  },
  {
   "cell_type": "markdown",
   "metadata": {},
   "source": [
    "Get matrix dimensions and add the bias column"
   ]
  },
  {
   "cell_type": "code",
   "execution_count": 20,
   "metadata": {},
   "outputs": [
    {
     "data": {
      "text/plain": [
       "(11, 1)"
      ]
     },
     "execution_count": 20,
     "metadata": {},
     "output_type": "execute_result"
    }
   ],
   "source": [
    "X.shape"
   ]
  },
  {
   "cell_type": "code",
   "execution_count": 21,
   "metadata": {},
   "outputs": [],
   "source": [
    "# np.ones((M, 1)),X"
   ]
  },
  {
   "cell_type": "code",
   "execution_count": 22,
   "metadata": {},
   "outputs": [],
   "source": [
    "M, N = X.shape\n",
    "X = np.concatenate((np.ones((M, 1)), X), axis=1) #Add x0 for the bias/intercept"
   ]
  },
  {
   "cell_type": "code",
   "execution_count": 23,
   "metadata": {},
   "outputs": [
    {
     "name": "stdout",
     "output_type": "stream",
     "text": [
      "[[ 1. 10.]\n",
      " [ 1.  8.]\n",
      " [ 1. 13.]\n",
      " [ 1.  9.]\n",
      " [ 1. 11.]\n",
      " [ 1. 14.]\n",
      " [ 1.  6.]\n",
      " [ 1.  4.]\n",
      " [ 1. 12.]\n",
      " [ 1.  7.]\n",
      " [ 1.  5.]]\n"
     ]
    }
   ],
   "source": [
    "print(X)"
   ]
  },
  {
   "cell_type": "markdown",
   "metadata": {},
   "source": [
    "Set the training parameters and initialize the weight matrix"
   ]
  },
  {
   "cell_type": "code",
   "execution_count": 24,
   "metadata": {},
   "outputs": [],
   "source": [
    "alpha = 0.01\n",
    "epsilon = 0.12\n",
    "\n",
    "weights = 2*np.random.rand(N+1, 1)*epsilon - epsilon\n",
    "count = 0"
   ]
  },
  {
   "cell_type": "markdown",
   "metadata": {},
   "source": [
    "## Training Procedure"
   ]
  },
  {
   "cell_type": "code",
   "execution_count": 25,
   "metadata": {},
   "outputs": [
    {
     "name": "stdout",
     "output_type": "stream",
     "text": [
      "100 0.9967653786551831 0.0008092079653841955 [0.40377468 0.75717688]\n",
      "200 0.924128457519429 0.0006508561694966719 [0.67162423 0.73065455]\n",
      "300 0.8657056660038159 0.0005234918234771069 [0.91184103 0.7068684 ]\n",
      "400 0.8187154781612214 0.00042105107409418085 [1.1272758  0.68553615]\n",
      "500 0.7809206776013702 0.0003386566877363606 [1.3204852  0.66640465]\n",
      "600 0.7505218429735144 0.00027238584391586773 [1.49376211 0.64924685]\n",
      "700 0.7260716769971559 0.00021908336865217315 [1.64916286 0.63385915]\n",
      "800 0.7064061002212734 0.00017621151572955185 [1.78853166 0.62005892]\n",
      "900 0.6905888288660569 0.00014172914387255986 [1.91352245 0.60768239]\n",
      "1000 0.677866798082226 0.00011399453741578469 [2.02561853 0.59658269]\n",
      "1100 0.6676343083164525 9.168724374875037e-05 [2.12615019 0.58662809]\n",
      "1200 0.6594041877809986 7.37452061907451e-05 [2.21631049 0.57770047]\n",
      "1300 0.6527845980644617 5.9314199159166137e-05 [2.29716937 0.56969386]\n",
      "1400 0.6474603785920349 4.770715824953253e-05 [2.36968643 0.56251325]\n",
      "1500 0.6431780417396833 3.8371468897513417e-05 [2.43472225 0.55607344]\n",
      "1600 0.6397337042152857 3.086265624341333e-05 [2.49304864 0.55029799]\n",
      "1700 0.6369633801163171 2.4823223549685913e-05 [2.54535777 0.54511836]\n",
      "1800 0.6347351735137514 1.9965631685825436e-05 [2.59227042 0.5404731 ]\n",
      "1900 0.6329429988488575 1.6058609302760374e-05 [2.63434331 0.53630706]\n",
      "2000 0.6315015301691626 1.2916141937657777e-05 [2.67207575 0.53257081]\n",
      "2100 0.6303421387352564 1.0388615814371782e-05 [2.70591551 0.52922001]\n",
      "2200 0.6294096255867228 8.35569468482511e-06 [2.73626418 0.5262149 ]\n",
      "2300 0.6286595935037202 6.720590587705466e-06 [2.76348192 0.52351982]\n",
      "2400 0.6280563332425454 5.405455747120591e-06 [2.78789174 0.52110277]\n",
      "2500 0.6275711234082464 4.347676212379525e-06 [2.80978332 0.51893507]\n",
      "2600 0.6271808630207284 3.496890795151586e-06 [2.82941644 0.51699101]\n",
      "2700 0.6268669716704302 2.8125933576594875e-06 [2.84702411 0.51524751]\n",
      "2800 0.6266145048996715 2.262204299996462e-06 [2.86281529 0.51368387]\n",
      "2900 0.6264114426927108 1.8195194415593363e-06 [2.87697736 0.51228155]\n",
      "3000 0.6262481171993323 1.4634624287968023e-06 [2.88967839 0.5110239 ]\n",
      "3100 0.6261167524457111 1.1770812831102262e-06 [2.90106913 0.509896  ]\n",
      "3175 0.6260353923067838 9.997124750249498e-07 [2.90883414 0.50912711]\n"
     ]
    },
    {
     "data": {
      "text/plain": [
       "Text(0, 0.5, 'Error')"
      ]
     },
     "execution_count": 25,
     "metadata": {},
     "output_type": "execute_result"
    },
    {
     "data": {
      "image/png": "[encoded data removed]",
      "text/plain": [
       "<Figure size 432x288 with 1 Axes>"
      ]
     },
     "metadata": {
      "needs_background": "light"
     },
     "output_type": "display_data"
    }
   ],
   "source": [
    "oldJ = 0\n",
    "err = 1\n",
    "\n",
    "Js = []\n",
    "\n",
    "while err > 1e-6:\n",
    "    Hs = np.dot(X, weights)\n",
    "    deltas = alpha/M*np.dot(X.T, (Hs-y))\n",
    "\n",
    "    count += 1\n",
    "    weights -= deltas\n",
    "\n",
    "    J = np.sum(np.power(Hs-y, 2.))/(2*M)\n",
    "    Js.append(J)\n",
    "    err = np.abs(oldJ-J)\n",
    "    oldJ = J\n",
    "    \n",
    "    if count % 100 == 0:\n",
    "        print(count, J, err, weights.flatten())\n",
    "\n",
    "print(count, J, err, weights.flatten())\n",
    "\n",
    "fig, ax = plt.subplots(1)\n",
    "ax.semilogy(Js)\n",
    "ax.set_xlabel('Epoch')\n",
    "ax.set_ylabel('Error')"
   ]
  },
  {
   "cell_type": "code",
   "execution_count": 26,
   "metadata": {},
   "outputs": [
    {
     "data": {
      "text/plain": [
       "array([2.90883414, 0.50912711])"
      ]
     },
     "execution_count": 26,
     "metadata": {},
     "output_type": "execute_result"
    }
   ],
   "source": [
    "weights.flatten()"
   ]
  },
  {
   "cell_type": "code",
   "execution_count": 27,
   "metadata": {},
   "outputs": [
    {
     "data": {
      "text/plain": [
       "<matplotlib.legend.Legend at 0x1d590ee5390>"
      ]
     },
     "execution_count": 27,
     "metadata": {},
     "output_type": "execute_result"
    },
    {
     "data": {
      "image/png": "[encoded data removed]",
      "text/plain": [
       "<Figure size 432x288 with 1 Axes>"
      ]
     },
     "metadata": {
      "needs_background": "light"
     },
     "output_type": "display_data"
    }
   ],
   "source": [
    "plt.plot(X.T[1], y, '.', markersize=30, label='points')\n",
    "plt.plot(X.T[1], np.dot(X, weights.flatten()), '-',\\\n",
    "         label='y = %2.2f + %2.2f x' % tuple(weights.flatten()))\n",
    "plt.xlabel('X')\n",
    "plt.ylabel('y')\n",
    "plt.legend()"
   ]
  },
  {
   "cell_type": "code",
   "execution_count": null,
   "metadata": {},
   "outputs": [],
   "source": [
    "weights"
   ]
  },
  {
   "cell_type": "markdown",
   "metadata": {},
   "source": [
    "# Multiple Linear Regression"
   ]
  },
  {
   "cell_type": "code",
   "execution_count": 28,
   "metadata": {},
   "outputs": [
    {
     "data": {
      "text/html": [
       "<div>\n",
       "<style scoped>\n",
       "    .dataframe tbody tr th:only-of-type {\n",
       "        vertical-align: middle;\n",
       "    }\n",
       "\n",
       "    .dataframe tbody tr th {\n",
       "        vertical-align: top;\n",
       "    }\n",
       "\n",
       "    .dataframe thead th {\n",
       "        text-align: right;\n",
       "    }\n",
       "</style>\n",
       "<table border=\"1\" class=\"dataframe\">\n",
       "  <thead>\n",
       "    <tr style=\"text-align: right;\">\n",
       "      <th></th>\n",
       "      <th>Year</th>\n",
       "      <th># of marriges</th>\n",
       "      <th># of divorces</th>\n",
       "      <th># of death</th>\n",
       "      <th># of born</th>\n",
       "      <th># inc</th>\n",
       "      <th>tot_pop</th>\n",
       "    </tr>\n",
       "  </thead>\n",
       "  <tbody>\n",
       "    <tr>\n",
       "      <th>0</th>\n",
       "      <td>2002</td>\n",
       "      <td>72696</td>\n",
       "      <td>29351</td>\n",
       "      <td>38925</td>\n",
       "      <td>102008</td>\n",
       "      <td>63083</td>\n",
       "      <td>10207295</td>\n",
       "    </tr>\n",
       "    <tr>\n",
       "      <th>1</th>\n",
       "      <td>2003</td>\n",
       "      <td>72750</td>\n",
       "      <td>32499</td>\n",
       "      <td>38068</td>\n",
       "      <td>101227</td>\n",
       "      <td>63159</td>\n",
       "      <td>10174086</td>\n",
       "    </tr>\n",
       "    <tr>\n",
       "      <th>2</th>\n",
       "      <td>2004</td>\n",
       "      <td>71553</td>\n",
       "      <td>26994</td>\n",
       "      <td>38274</td>\n",
       "      <td>99828</td>\n",
       "      <td>61554</td>\n",
       "      <td>10173162</td>\n",
       "    </tr>\n",
       "    <tr>\n",
       "      <th>3</th>\n",
       "      <td>2005</td>\n",
       "      <td>71286</td>\n",
       "      <td>25300</td>\n",
       "      <td>38751</td>\n",
       "      <td>90468</td>\n",
       "      <td>51717</td>\n",
       "      <td>10167344</td>\n",
       "    </tr>\n",
       "    <tr>\n",
       "      <th>4</th>\n",
       "      <td>2006</td>\n",
       "      <td>73924</td>\n",
       "      <td>24354</td>\n",
       "      <td>38519</td>\n",
       "      <td>93922</td>\n",
       "      <td>55403</td>\n",
       "      <td>10181166</td>\n",
       "    </tr>\n",
       "    <tr>\n",
       "      <th>5</th>\n",
       "      <td>2007</td>\n",
       "      <td>76399</td>\n",
       "      <td>24615</td>\n",
       "      <td>39016</td>\n",
       "      <td>101249</td>\n",
       "      <td>62233</td>\n",
       "      <td>10192710</td>\n",
       "    </tr>\n",
       "    <tr>\n",
       "      <th>6</th>\n",
       "      <td>2008</td>\n",
       "      <td>71753</td>\n",
       "      <td>23319</td>\n",
       "      <td>38298</td>\n",
       "      <td>94736</td>\n",
       "      <td>56438</td>\n",
       "      <td>10200827</td>\n",
       "    </tr>\n",
       "    <tr>\n",
       "      <th>7</th>\n",
       "      <td>2009</td>\n",
       "      <td>68841</td>\n",
       "      <td>23920</td>\n",
       "      <td>38790</td>\n",
       "      <td>89594</td>\n",
       "      <td>50804</td>\n",
       "      <td>10208302</td>\n",
       "    </tr>\n",
       "    <tr>\n",
       "      <th>8</th>\n",
       "      <td>2010</td>\n",
       "      <td>70466</td>\n",
       "      <td>21768</td>\n",
       "      <td>40130</td>\n",
       "      <td>93266</td>\n",
       "      <td>53136</td>\n",
       "      <td>10312545</td>\n",
       "    </tr>\n",
       "    <tr>\n",
       "      <th>9</th>\n",
       "      <td>2011</td>\n",
       "      <td>71519</td>\n",
       "      <td>20617</td>\n",
       "      <td>40320</td>\n",
       "      <td>91526</td>\n",
       "      <td>51206</td>\n",
       "      <td>10249679</td>\n",
       "    </tr>\n",
       "    <tr>\n",
       "      <th>10</th>\n",
       "      <td>2012</td>\n",
       "      <td>71695</td>\n",
       "      <td>20177</td>\n",
       "      <td>41514</td>\n",
       "      <td>93914</td>\n",
       "      <td>52400</td>\n",
       "      <td>10195318</td>\n",
       "    </tr>\n",
       "    <tr>\n",
       "      <th>11</th>\n",
       "      <td>2013</td>\n",
       "      <td>68819</td>\n",
       "      <td>20126</td>\n",
       "      <td>42063</td>\n",
       "      <td>84066</td>\n",
       "      <td>42003</td>\n",
       "      <td>10143645</td>\n",
       "    </tr>\n",
       "    <tr>\n",
       "      <th>12</th>\n",
       "      <td>2014</td>\n",
       "      <td>64823</td>\n",
       "      <td>19477</td>\n",
       "      <td>42153</td>\n",
       "      <td>83711</td>\n",
       "      <td>41558</td>\n",
       "      <td>10103233</td>\n",
       "    </tr>\n",
       "    <tr>\n",
       "      <th>13</th>\n",
       "      <td>2015</td>\n",
       "      <td>64193</td>\n",
       "      <td>18176</td>\n",
       "      <td>43053</td>\n",
       "      <td>83005</td>\n",
       "      <td>39952</td>\n",
       "      <td>10022181</td>\n",
       "    </tr>\n",
       "    <tr>\n",
       "      <th>14</th>\n",
       "      <td>2016</td>\n",
       "      <td>57643</td>\n",
       "      <td>17777</td>\n",
       "      <td>43540</td>\n",
       "      <td>75536</td>\n",
       "      <td>31996</td>\n",
       "      <td>9930616</td>\n",
       "    </tr>\n",
       "    <tr>\n",
       "      <th>15</th>\n",
       "      <td>2017</td>\n",
       "      <td>53776</td>\n",
       "      <td>17083</td>\n",
       "      <td>42932</td>\n",
       "      <td>65389</td>\n",
       "      <td>22457</td>\n",
       "      <td>9857426</td>\n",
       "    </tr>\n",
       "    <tr>\n",
       "      <th>16</th>\n",
       "      <td>2018</td>\n",
       "      <td>52005</td>\n",
       "      <td>16940</td>\n",
       "      <td>45219</td>\n",
       "      <td>58074</td>\n",
       "      <td>12855</td>\n",
       "      <td>9765623</td>\n",
       "    </tr>\n",
       "    <tr>\n",
       "      <th>17</th>\n",
       "      <td>2019</td>\n",
       "      <td>48261</td>\n",
       "      <td>16972</td>\n",
       "      <td>43829</td>\n",
       "      <td>53673</td>\n",
       "      <td>9844</td>\n",
       "      <td>9729107</td>\n",
       "    </tr>\n",
       "    <tr>\n",
       "      <th>18</th>\n",
       "      <td>2020</td>\n",
       "      <td>44746</td>\n",
       "      <td>16282</td>\n",
       "      <td>45522</td>\n",
       "      <td>47445</td>\n",
       "      <td>1923</td>\n",
       "      <td>9668465</td>\n",
       "    </tr>\n",
       "    <tr>\n",
       "      <th>19</th>\n",
       "      <td>2021</td>\n",
       "      <td>37012</td>\n",
       "      <td>14967</td>\n",
       "      <td>48798</td>\n",
       "      <td>45531</td>\n",
       "      <td>-3267</td>\n",
       "      <td>9509458</td>\n",
       "    </tr>\n",
       "  </tbody>\n",
       "</table>\n",
       "</div>"
      ],
      "text/plain": [
       "    Year  # of marriges  # of divorces  # of death  # of born  # inc   tot_pop\n",
       "0   2002          72696          29351       38925     102008  63083  10207295\n",
       "1   2003          72750          32499       38068     101227  63159  10174086\n",
       "2   2004          71553          26994       38274      99828  61554  10173162\n",
       "3   2005          71286          25300       38751      90468  51717  10167344\n",
       "4   2006          73924          24354       38519      93922  55403  10181166\n",
       "5   2007          76399          24615       39016     101249  62233  10192710\n",
       "6   2008          71753          23319       38298      94736  56438  10200827\n",
       "7   2009          68841          23920       38790      89594  50804  10208302\n",
       "8   2010          70466          21768       40130      93266  53136  10312545\n",
       "9   2011          71519          20617       40320      91526  51206  10249679\n",
       "10  2012          71695          20177       41514      93914  52400  10195318\n",
       "11  2013          68819          20126       42063      84066  42003  10143645\n",
       "12  2014          64823          19477       42153      83711  41558  10103233\n",
       "13  2015          64193          18176       43053      83005  39952  10022181\n",
       "14  2016          57643          17777       43540      75536  31996   9930616\n",
       "15  2017          53776          17083       42932      65389  22457   9857426\n",
       "16  2018          52005          16940       45219      58074  12855   9765623\n",
       "17  2019          48261          16972       43829      53673   9844   9729107\n",
       "18  2020          44746          16282       45522      47445   1923   9668465\n",
       "19  2021          37012          14967       48798      45531  -3267   9509458"
      ]
     },
     "execution_count": 28,
     "metadata": {},
     "output_type": "execute_result"
    }
   ],
   "source": [
    "# seoul_born_death_mrg['tot_pop'] = list(sel_pop_tot.iloc[0])\n",
    "seoul_born_death_mrg"
   ]
  },
  {
   "cell_type": "code",
   "execution_count": 29,
   "metadata": {},
   "outputs": [],
   "source": [
    "from sklearn.model_selection import train_test_split\n",
    "\n",
    "multi_x = seoul_born_death_mrg[['# of born','# of marriges']]\n",
    "multi_y = seoul_born_death_mrg[['tot_pop']]\n",
    "\n",
    "multi_x_train, multi_x_test, multi_y_train, multi_y_test = train_test_split(multi_x, multi_y, train_size=0.8, test_size=0.2)"
   ]
  },
  {
   "cell_type": "code",
   "execution_count": 30,
   "metadata": {},
   "outputs": [
    {
     "data": {
      "text/plain": [
       "16"
      ]
     },
     "execution_count": 30,
     "metadata": {},
     "output_type": "execute_result"
    }
   ],
   "source": [
    "len(multi_x_train)"
   ]
  },
  {
   "cell_type": "code",
   "execution_count": 31,
   "metadata": {},
   "outputs": [
    {
     "data": {
      "text/plain": [
       "LinearRegression(copy_X=True, fit_intercept=True, n_jobs=None,\n",
       "         normalize=False)"
      ]
     },
     "execution_count": 31,
     "metadata": {},
     "output_type": "execute_result"
    }
   ],
   "source": [
    "mlr = LinearRegression()\n",
    "mlr.fit(multi_x_train, multi_y_train) "
   ]
  },
  {
   "cell_type": "code",
   "execution_count": 32,
   "metadata": {},
   "outputs": [
    {
     "data": {
      "text/plain": [
       "0.7849032007323704"
      ]
     },
     "execution_count": 32,
     "metadata": {},
     "output_type": "execute_result"
    }
   ],
   "source": [
    "r_sq = mlr.score(multi_x_test, multi_y_test) # Performance Indicators of Regression Models\n",
    "r_sq"
   ]
  },
  {
   "cell_type": "code",
   "execution_count": 33,
   "metadata": {},
   "outputs": [
    {
     "data": {
      "text/plain": [
       "0.9612113219710109"
      ]
     },
     "execution_count": 33,
     "metadata": {},
     "output_type": "execute_result"
    }
   ],
   "source": [
    "r_sq_t = mlr.score(multi_x_train, multi_y_train) # Performance Indicators of Regression Models\n",
    "r_sq_t"
   ]
  },
  {
   "cell_type": "code",
   "execution_count": 34,
   "metadata": {},
   "outputs": [
    {
     "data": {
      "text/plain": [
       "array([[ 1.5194918 , 18.01167898]])"
      ]
     },
     "execution_count": 34,
     "metadata": {},
     "output_type": "execute_result"
    }
   ],
   "source": [
    "mlr.coef_"
   ]
  },
  {
   "cell_type": "code",
   "execution_count": 35,
   "metadata": {},
   "outputs": [
    {
     "data": {
      "text/plain": [
       "array([8776954.04746057])"
      ]
     },
     "execution_count": 35,
     "metadata": {},
     "output_type": "execute_result"
    }
   ],
   "source": [
    "mlr.intercept_"
   ]
  },
  {
   "cell_type": "code",
   "execution_count": 36,
   "metadata": {},
   "outputs": [],
   "source": [
    "multi_y_predict = mlr.predict(multi_x_test)"
   ]
  },
  {
   "cell_type": "code",
   "execution_count": 37,
   "metadata": {},
   "outputs": [
    {
     "name": "stderr",
     "output_type": "stream",
     "text": [
      "No handles with labels found to put in legend.\n"
     ]
    },
    {
     "data": {
      "image/png": "[encoded data removed]",
      "text/plain": [
       "<Figure size 432x288 with 1 Axes>"
      ]
     },
     "metadata": {
      "needs_background": "light"
     },
     "output_type": "display_data"
    }
   ],
   "source": [
    "plt.scatter(multi_y_test, multi_y_predict, alpha=0.4)\n",
    "plt.xlabel(\"Actual pop\")\n",
    "plt.ylabel(\"Predicted # of tot\")\n",
    "plt.title(\"MULTIPLE LINEAR REGRESSION Seoul Pop \")\n",
    "plt.legend(loc= 'upper center')\n",
    "\n",
    "plt.show()\n",
    "# plt.plot(x,line_fitter.predict(x.values.reshape(-1,1)))\n",
    "# plt.show()"
   ]
  },
  {
   "cell_type": "code",
   "execution_count": 38,
   "metadata": {},
   "outputs": [
    {
     "data": {
      "image/png": "[encoded data removed]",
      "text/plain": [
       "<Figure size 432x288 with 1 Axes>"
      ]
     },
     "metadata": {
      "needs_background": "light"
     },
     "output_type": "display_data"
    }
   ],
   "source": [
    "plt.scatter(seoul_born_death_mrg[['# of born']], seoul_born_death_mrg[['tot_pop']], alpha=0.4)\n",
    "plt.show()"
   ]
  },
  {
   "cell_type": "code",
   "execution_count": 39,
   "metadata": {},
   "outputs": [
    {
     "data": {
      "image/png": "[encoded data removed]",
      "text/plain": [
       "<Figure size 432x288 with 1 Axes>"
      ]
     },
     "metadata": {
      "needs_background": "light"
     },
     "output_type": "display_data"
    }
   ],
   "source": [
    "plt.scatter(seoul_born_death_mrg[['# of marriges']], seoul_born_death_mrg[['tot_pop']], alpha=0.4)\n",
    "plt.show()"
   ]
  },
  {
   "cell_type": "code",
   "execution_count": 40,
   "metadata": {},
   "outputs": [
    {
     "ename": "SyntaxError",
     "evalue": "invalid syntax (<ipython-input-40-94b124c2bc4c>, line 1)",
     "output_type": "error",
     "traceback": [
      "\u001b[1;36m  File \u001b[1;32m\"<ipython-input-40-94b124c2bc4c>\"\u001b[1;36m, line \u001b[1;32m1\u001b[0m\n\u001b[1;33m    <img src = './images/fig 10.png' width=800 height=200>\u001b[0m\n\u001b[1;37m    ^\u001b[0m\n\u001b[1;31mSyntaxError\u001b[0m\u001b[1;31m:\u001b[0m invalid syntax\n"
     ]
    }
   ],
   "source": [
    "<img src = './images/fig 10.png' width=800 height=200>  "
   ]
  },
  {
   "cell_type": "code",
   "execution_count": null,
   "metadata": {},
   "outputs": [],
   "source": []
  },
  {
   "cell_type": "markdown",
   "metadata": {},
   "source": [
    "# Logistic Regression (Classification) _Ex 1_"
   ]
  },
  {
   "cell_type": "code",
   "execution_count": 7,
   "metadata": {},
   "outputs": [],
   "source": [
    "#-*- coding: utf-8 -*-\n",
    "import tensorflow as tf\n",
    "import numpy as np"
   ]
  },
  {
   "cell_type": "code",
   "execution_count": 8,
   "metadata": {},
   "outputs": [],
   "source": [
    "# x,y random data values\n",
    "data = [[2, 0], [4, 0], [6, 0], [8, 1], [10, 1], [12, 1], [14, 1]]\n",
    "x_data = [x_row[0] for x_row in data]\n",
    "y_data = [y_row[1] for y_row in data]"
   ]
  },
  {
   "cell_type": "code",
   "execution_count": 9,
   "metadata": {},
   "outputs": [
    {
     "data": {
      "text/plain": [
       "[2, 4, 6, 8, 10, 12, 14]"
      ]
     },
     "execution_count": 9,
     "metadata": {},
     "output_type": "execute_result"
    }
   ],
   "source": [
    "x_data"
   ]
  },
  {
   "cell_type": "code",
   "execution_count": 10,
   "metadata": {},
   "outputs": [],
   "source": [
    "# Arbitrarily set the values of a and b\n",
    "a = tf.Variable(tf.random.normal([1], dtype=tf.float64, seed=0))\n",
    "b = tf.Variable(tf.random.normal([1], dtype=tf.float64, seed=0))"
   ]
  },
  {
   "cell_type": "code",
   "execution_count": 11,
   "metadata": {},
   "outputs": [],
   "source": [
    "# Establish an equation for the y sigmoid function\n",
    "y = 1/(1 + np.e**(a * x_data + b))"
   ]
  },
  {
   "cell_type": "code",
   "execution_count": 12,
   "metadata": {},
   "outputs": [],
   "source": [
    "# function to find the loss\n",
    "loss = -tf.reduce_mean(np.array(y_data) * tf.math.log(y) + (1 - np.array(y_data)) * tf.math.log(1 - y))"
   ]
  },
  {
   "cell_type": "code",
   "execution_count": 13,
   "metadata": {},
   "outputs": [],
   "source": [
    "# learning_rate\n",
    "learning_rate=0.5"
   ]
  },
  {
   "cell_type": "code",
   "execution_count": 14,
   "metadata": {},
   "outputs": [],
   "source": [
    "# Find the value that minimizes the loss\n",
    "import tensorflow.compat.v1 as tf\n",
    "tf.disable_v2_behavior()\n",
    "gradient_decent = tf.train.GradientDescentOptimizer(learning_rate).minimize(loss)"
   ]
  },
  {
   "cell_type": "code",
   "execution_count": 15,
   "metadata": {},
   "outputs": [
    {
     "name": "stdout",
     "output_type": "stream",
     "text": [
      "Epoch: 0, loss = 1.2676, 기울기 a = 0.1849, 바이어스 b = -0.4334\n",
      "Epoch: 6000, loss = 0.0152, 기울기 a = -2.9211, 바이어스 b = 20.2982\n",
      "Epoch: 12000, loss = 0.0081, 기울기 a = -3.5637, 바이어스 b = 24.8010\n",
      "Epoch: 18000, loss = 0.0055, 기울기 a = -3.9557, 바이어스 b = 27.5463\n",
      "Epoch: 24000, loss = 0.0041, 기울기 a = -4.2380, 바이어스 b = 29.5231\n",
      "Epoch: 30000, loss = 0.0033, 기울기 a = -4.4586, 바이어스 b = 31.0675\n",
      "Epoch: 36000, loss = 0.0028, 기울기 a = -4.6396, 바이어스 b = 32.3346\n",
      "Epoch: 42000, loss = 0.0024, 기울기 a = -4.7930, 바이어스 b = 33.4086\n",
      "Epoch: 48000, loss = 0.0021, 기울기 a = -4.9261, 바이어스 b = 34.3406\n",
      "Epoch: 54000, loss = 0.0019, 기울기 a = -5.0436, 바이어스 b = 35.1636\n",
      "Epoch: 60000, loss = 0.0017, 기울기 a = -5.1489, 바이어스 b = 35.9005\n"
     ]
    }
   ],
   "source": [
    "# training\n",
    "with tf.Session() as sess:\n",
    "    sess.run(tf.global_variables_initializer())\n",
    "\n",
    "    for i in range(60001):\n",
    "        sess.run(gradient_decent)\n",
    "        if i % 6000 == 0:\n",
    "            print(\"Epoch: %.f, loss = %.4f, 기울기 a = %.4f, 바이어스 b = %.4f\" % (i, sess.run(loss), sess.run(a), sess.run(b)))"
   ]
  },
  {
   "cell_type": "markdown",
   "metadata": {},
   "source": [
    "# Logistic Regression _Ex 2_"
   ]
  },
  {
   "cell_type": "code",
   "execution_count": 1,
   "metadata": {},
   "outputs": [
    {
     "name": "stderr",
     "output_type": "stream",
     "text": [
      "C:\\Users\\Owner\\Anaconda\\lib\\site-packages\\numpy\\_distributor_init.py:32: UserWarning: loaded more than 1 DLL from .libs:\n",
      "C:\\Users\\Owner\\Anaconda\\lib\\site-packages\\numpy\\.libs\\libopenblas.PYQHXLVVQ7VESDPUVUADXEVJOBGHJPAY.gfortran-win_amd64.dll\n",
      "C:\\Users\\Owner\\Anaconda\\lib\\site-packages\\numpy\\.libs\\libopenblas.WCDJNK7YVMPZQ2ME2ZZHJJRJ3JIKNDB7.gfortran-win_amd64.dll\n",
      "  stacklevel=1)\n"
     ]
    }
   ],
   "source": [
    "import numpy as np\n",
    "import pandas as pd\n",
    "import matplotlib\n",
    "import matplotlib.pyplot as plt\n",
    "\n",
    "import seaborn as sns\n",
    "\n",
    "%matplotlib inline\n",
    "\n",
    "plt.style.use('./class_04_plot.style')"
   ]
  },
  {
   "cell_type": "code",
   "execution_count": 2,
   "metadata": {},
   "outputs": [],
   "source": [
    "# '''\n",
    "# lines.linewidth: 4\n",
    "# lines.solid_capstyle: butt\n",
    "\n",
    "# legend.fancybox: true\n",
    "\n",
    "# axes.prop_cycle: cycler('color', ['51a7f9', 'cf51f9', '70bf41', 'f39019', 'f9e351', 'f9517b', '6d904f', '8b8b8b','810f7c']) \n",
    "\n",
    "# axes.labelsize: large\n",
    "# axes.axisbelow: true\n",
    "# axes.grid: true\n",
    "# axes.edgecolor: f0f0f0\n",
    "# axes.linewidth: 3.0\n",
    "# axes.titlesize: x-large\n",
    "\n",
    "# patch.edgecolor: f0f0f0\n",
    "# patch.linewidth: 0.5\n",
    "\n",
    "# svg.fonttype: path\n",
    "\n",
    "# grid.linestyle: -\n",
    "# grid.linewidth: 1.0\n",
    "\n",
    "# xtick.major.size: 0\n",
    "# xtick.minor.size: 0\n",
    "# ytick.major.size: 0\n",
    "# ytick.minor.size: 0\n",
    "\n",
    "# font.size: 24.0\n",
    "\n",
    "# savefig.edgecolor: f0f0f0\n",
    "# savefig.facecolor: f0f0f0\n",
    "\n",
    "# figure.subplot.left: 0.08\n",
    "# figure.subplot.right: 0.95\n",
    "# figure.subplot.bottom: 0.07\n",
    "# figure.figsize: 12.8, 8.8\n",
    "# figure.autolayout: True\n",
    "# figure.dpi: 300\n",
    "# '''"
   ]
  },
  {
   "cell_type": "markdown",
   "metadata": {},
   "source": [
    "### Load the dataset"
   ]
  },
  {
   "cell_type": "code",
   "execution_count": 3,
   "metadata": {},
   "outputs": [],
   "source": [
    "data = pd.read_csv('./data/iris.csv', delimiter=',', header=0)"
   ]
  },
  {
   "cell_type": "markdown",
   "metadata": {},
   "source": [
    "#### Quick visualization of the data. Always a good way to make sure we have what we expect"
   ]
  },
  {
   "cell_type": "code",
   "execution_count": 4,
   "metadata": {},
   "outputs": [
    {
     "data": {
      "text/html": [
       "<div>\n",
       "<style scoped>\n",
       "    .dataframe tbody tr th:only-of-type {\n",
       "        vertical-align: middle;\n",
       "    }\n",
       "\n",
       "    .dataframe tbody tr th {\n",
       "        vertical-align: top;\n",
       "    }\n",
       "\n",
       "    .dataframe thead th {\n",
       "        text-align: right;\n",
       "    }\n",
       "</style>\n",
       "<table border=\"1\" class=\"dataframe\">\n",
       "  <thead>\n",
       "    <tr style=\"text-align: right;\">\n",
       "      <th></th>\n",
       "      <th>sepal_length</th>\n",
       "      <th>sepal_width</th>\n",
       "      <th>petal_length</th>\n",
       "      <th>petal_width</th>\n",
       "      <th>species</th>\n",
       "    </tr>\n",
       "  </thead>\n",
       "  <tbody>\n",
       "    <tr>\n",
       "      <th>0</th>\n",
       "      <td>5.1</td>\n",
       "      <td>3.5</td>\n",
       "      <td>1.4</td>\n",
       "      <td>0.2</td>\n",
       "      <td>setosa</td>\n",
       "    </tr>\n",
       "    <tr>\n",
       "      <th>1</th>\n",
       "      <td>4.9</td>\n",
       "      <td>3.0</td>\n",
       "      <td>1.4</td>\n",
       "      <td>0.2</td>\n",
       "      <td>setosa</td>\n",
       "    </tr>\n",
       "    <tr>\n",
       "      <th>2</th>\n",
       "      <td>4.7</td>\n",
       "      <td>3.2</td>\n",
       "      <td>1.3</td>\n",
       "      <td>0.2</td>\n",
       "      <td>setosa</td>\n",
       "    </tr>\n",
       "    <tr>\n",
       "      <th>3</th>\n",
       "      <td>4.6</td>\n",
       "      <td>3.1</td>\n",
       "      <td>1.5</td>\n",
       "      <td>0.2</td>\n",
       "      <td>setosa</td>\n",
       "    </tr>\n",
       "    <tr>\n",
       "      <th>4</th>\n",
       "      <td>5.0</td>\n",
       "      <td>3.6</td>\n",
       "      <td>1.4</td>\n",
       "      <td>0.2</td>\n",
       "      <td>setosa</td>\n",
       "    </tr>\n",
       "    <tr>\n",
       "      <th>5</th>\n",
       "      <td>5.4</td>\n",
       "      <td>3.9</td>\n",
       "      <td>1.7</td>\n",
       "      <td>0.4</td>\n",
       "      <td>setosa</td>\n",
       "    </tr>\n",
       "    <tr>\n",
       "      <th>6</th>\n",
       "      <td>4.6</td>\n",
       "      <td>3.4</td>\n",
       "      <td>1.4</td>\n",
       "      <td>0.3</td>\n",
       "      <td>setosa</td>\n",
       "    </tr>\n",
       "    <tr>\n",
       "      <th>7</th>\n",
       "      <td>5.0</td>\n",
       "      <td>3.4</td>\n",
       "      <td>1.5</td>\n",
       "      <td>0.2</td>\n",
       "      <td>setosa</td>\n",
       "    </tr>\n",
       "    <tr>\n",
       "      <th>8</th>\n",
       "      <td>4.4</td>\n",
       "      <td>2.9</td>\n",
       "      <td>1.4</td>\n",
       "      <td>0.2</td>\n",
       "      <td>setosa</td>\n",
       "    </tr>\n",
       "    <tr>\n",
       "      <th>9</th>\n",
       "      <td>4.9</td>\n",
       "      <td>3.1</td>\n",
       "      <td>1.5</td>\n",
       "      <td>0.1</td>\n",
       "      <td>setosa</td>\n",
       "    </tr>\n",
       "    <tr>\n",
       "      <th>10</th>\n",
       "      <td>5.4</td>\n",
       "      <td>3.7</td>\n",
       "      <td>1.5</td>\n",
       "      <td>0.2</td>\n",
       "      <td>setosa</td>\n",
       "    </tr>\n",
       "    <tr>\n",
       "      <th>11</th>\n",
       "      <td>4.8</td>\n",
       "      <td>3.4</td>\n",
       "      <td>1.6</td>\n",
       "      <td>0.2</td>\n",
       "      <td>setosa</td>\n",
       "    </tr>\n",
       "    <tr>\n",
       "      <th>12</th>\n",
       "      <td>4.8</td>\n",
       "      <td>3.0</td>\n",
       "      <td>1.4</td>\n",
       "      <td>0.1</td>\n",
       "      <td>setosa</td>\n",
       "    </tr>\n",
       "    <tr>\n",
       "      <th>13</th>\n",
       "      <td>4.3</td>\n",
       "      <td>3.0</td>\n",
       "      <td>1.1</td>\n",
       "      <td>0.1</td>\n",
       "      <td>setosa</td>\n",
       "    </tr>\n",
       "    <tr>\n",
       "      <th>14</th>\n",
       "      <td>5.8</td>\n",
       "      <td>4.0</td>\n",
       "      <td>1.2</td>\n",
       "      <td>0.2</td>\n",
       "      <td>setosa</td>\n",
       "    </tr>\n",
       "    <tr>\n",
       "      <th>15</th>\n",
       "      <td>5.7</td>\n",
       "      <td>4.4</td>\n",
       "      <td>1.5</td>\n",
       "      <td>0.4</td>\n",
       "      <td>setosa</td>\n",
       "    </tr>\n",
       "    <tr>\n",
       "      <th>16</th>\n",
       "      <td>5.4</td>\n",
       "      <td>3.9</td>\n",
       "      <td>1.3</td>\n",
       "      <td>0.4</td>\n",
       "      <td>setosa</td>\n",
       "    </tr>\n",
       "    <tr>\n",
       "      <th>17</th>\n",
       "      <td>5.1</td>\n",
       "      <td>3.5</td>\n",
       "      <td>1.4</td>\n",
       "      <td>0.3</td>\n",
       "      <td>setosa</td>\n",
       "    </tr>\n",
       "    <tr>\n",
       "      <th>18</th>\n",
       "      <td>5.7</td>\n",
       "      <td>3.8</td>\n",
       "      <td>1.7</td>\n",
       "      <td>0.3</td>\n",
       "      <td>setosa</td>\n",
       "    </tr>\n",
       "    <tr>\n",
       "      <th>19</th>\n",
       "      <td>5.1</td>\n",
       "      <td>3.8</td>\n",
       "      <td>1.5</td>\n",
       "      <td>0.3</td>\n",
       "      <td>setosa</td>\n",
       "    </tr>\n",
       "    <tr>\n",
       "      <th>20</th>\n",
       "      <td>5.4</td>\n",
       "      <td>3.4</td>\n",
       "      <td>1.7</td>\n",
       "      <td>0.2</td>\n",
       "      <td>setosa</td>\n",
       "    </tr>\n",
       "    <tr>\n",
       "      <th>21</th>\n",
       "      <td>5.1</td>\n",
       "      <td>3.7</td>\n",
       "      <td>1.5</td>\n",
       "      <td>0.4</td>\n",
       "      <td>setosa</td>\n",
       "    </tr>\n",
       "    <tr>\n",
       "      <th>22</th>\n",
       "      <td>4.6</td>\n",
       "      <td>3.6</td>\n",
       "      <td>1.0</td>\n",
       "      <td>0.2</td>\n",
       "      <td>setosa</td>\n",
       "    </tr>\n",
       "    <tr>\n",
       "      <th>23</th>\n",
       "      <td>5.1</td>\n",
       "      <td>3.3</td>\n",
       "      <td>1.7</td>\n",
       "      <td>0.5</td>\n",
       "      <td>setosa</td>\n",
       "    </tr>\n",
       "    <tr>\n",
       "      <th>24</th>\n",
       "      <td>4.8</td>\n",
       "      <td>3.4</td>\n",
       "      <td>1.9</td>\n",
       "      <td>0.2</td>\n",
       "      <td>setosa</td>\n",
       "    </tr>\n",
       "    <tr>\n",
       "      <th>25</th>\n",
       "      <td>5.0</td>\n",
       "      <td>3.0</td>\n",
       "      <td>1.6</td>\n",
       "      <td>0.2</td>\n",
       "      <td>setosa</td>\n",
       "    </tr>\n",
       "    <tr>\n",
       "      <th>26</th>\n",
       "      <td>5.0</td>\n",
       "      <td>3.4</td>\n",
       "      <td>1.6</td>\n",
       "      <td>0.4</td>\n",
       "      <td>setosa</td>\n",
       "    </tr>\n",
       "    <tr>\n",
       "      <th>27</th>\n",
       "      <td>5.2</td>\n",
       "      <td>3.5</td>\n",
       "      <td>1.5</td>\n",
       "      <td>0.2</td>\n",
       "      <td>setosa</td>\n",
       "    </tr>\n",
       "    <tr>\n",
       "      <th>28</th>\n",
       "      <td>5.2</td>\n",
       "      <td>3.4</td>\n",
       "      <td>1.4</td>\n",
       "      <td>0.2</td>\n",
       "      <td>setosa</td>\n",
       "    </tr>\n",
       "    <tr>\n",
       "      <th>29</th>\n",
       "      <td>4.7</td>\n",
       "      <td>3.2</td>\n",
       "      <td>1.6</td>\n",
       "      <td>0.2</td>\n",
       "      <td>setosa</td>\n",
       "    </tr>\n",
       "    <tr>\n",
       "      <th>...</th>\n",
       "      <td>...</td>\n",
       "      <td>...</td>\n",
       "      <td>...</td>\n",
       "      <td>...</td>\n",
       "      <td>...</td>\n",
       "    </tr>\n",
       "    <tr>\n",
       "      <th>120</th>\n",
       "      <td>6.9</td>\n",
       "      <td>3.2</td>\n",
       "      <td>5.7</td>\n",
       "      <td>2.3</td>\n",
       "      <td>virginica</td>\n",
       "    </tr>\n",
       "    <tr>\n",
       "      <th>121</th>\n",
       "      <td>5.6</td>\n",
       "      <td>2.8</td>\n",
       "      <td>4.9</td>\n",
       "      <td>2.0</td>\n",
       "      <td>virginica</td>\n",
       "    </tr>\n",
       "    <tr>\n",
       "      <th>122</th>\n",
       "      <td>7.7</td>\n",
       "      <td>2.8</td>\n",
       "      <td>6.7</td>\n",
       "      <td>2.0</td>\n",
       "      <td>virginica</td>\n",
       "    </tr>\n",
       "    <tr>\n",
       "      <th>123</th>\n",
       "      <td>6.3</td>\n",
       "      <td>2.7</td>\n",
       "      <td>4.9</td>\n",
       "      <td>1.8</td>\n",
       "      <td>virginica</td>\n",
       "    </tr>\n",
       "    <tr>\n",
       "      <th>124</th>\n",
       "      <td>6.7</td>\n",
       "      <td>3.3</td>\n",
       "      <td>5.7</td>\n",
       "      <td>2.1</td>\n",
       "      <td>virginica</td>\n",
       "    </tr>\n",
       "    <tr>\n",
       "      <th>125</th>\n",
       "      <td>7.2</td>\n",
       "      <td>3.2</td>\n",
       "      <td>6.0</td>\n",
       "      <td>1.8</td>\n",
       "      <td>virginica</td>\n",
       "    </tr>\n",
       "    <tr>\n",
       "      <th>126</th>\n",
       "      <td>6.2</td>\n",
       "      <td>2.8</td>\n",
       "      <td>4.8</td>\n",
       "      <td>1.8</td>\n",
       "      <td>virginica</td>\n",
       "    </tr>\n",
       "    <tr>\n",
       "      <th>127</th>\n",
       "      <td>6.1</td>\n",
       "      <td>3.0</td>\n",
       "      <td>4.9</td>\n",
       "      <td>1.8</td>\n",
       "      <td>virginica</td>\n",
       "    </tr>\n",
       "    <tr>\n",
       "      <th>128</th>\n",
       "      <td>6.4</td>\n",
       "      <td>2.8</td>\n",
       "      <td>5.6</td>\n",
       "      <td>2.1</td>\n",
       "      <td>virginica</td>\n",
       "    </tr>\n",
       "    <tr>\n",
       "      <th>129</th>\n",
       "      <td>7.2</td>\n",
       "      <td>3.0</td>\n",
       "      <td>5.8</td>\n",
       "      <td>1.6</td>\n",
       "      <td>virginica</td>\n",
       "    </tr>\n",
       "    <tr>\n",
       "      <th>130</th>\n",
       "      <td>7.4</td>\n",
       "      <td>2.8</td>\n",
       "      <td>6.1</td>\n",
       "      <td>1.9</td>\n",
       "      <td>virginica</td>\n",
       "    </tr>\n",
       "    <tr>\n",
       "      <th>131</th>\n",
       "      <td>7.9</td>\n",
       "      <td>3.8</td>\n",
       "      <td>6.4</td>\n",
       "      <td>2.0</td>\n",
       "      <td>virginica</td>\n",
       "    </tr>\n",
       "    <tr>\n",
       "      <th>132</th>\n",
       "      <td>6.4</td>\n",
       "      <td>2.8</td>\n",
       "      <td>5.6</td>\n",
       "      <td>2.2</td>\n",
       "      <td>virginica</td>\n",
       "    </tr>\n",
       "    <tr>\n",
       "      <th>133</th>\n",
       "      <td>6.3</td>\n",
       "      <td>2.8</td>\n",
       "      <td>5.1</td>\n",
       "      <td>1.5</td>\n",
       "      <td>virginica</td>\n",
       "    </tr>\n",
       "    <tr>\n",
       "      <th>134</th>\n",
       "      <td>6.1</td>\n",
       "      <td>2.6</td>\n",
       "      <td>5.6</td>\n",
       "      <td>1.4</td>\n",
       "      <td>virginica</td>\n",
       "    </tr>\n",
       "    <tr>\n",
       "      <th>135</th>\n",
       "      <td>7.7</td>\n",
       "      <td>3.0</td>\n",
       "      <td>6.1</td>\n",
       "      <td>2.3</td>\n",
       "      <td>virginica</td>\n",
       "    </tr>\n",
       "    <tr>\n",
       "      <th>136</th>\n",
       "      <td>6.3</td>\n",
       "      <td>3.4</td>\n",
       "      <td>5.6</td>\n",
       "      <td>2.4</td>\n",
       "      <td>virginica</td>\n",
       "    </tr>\n",
       "    <tr>\n",
       "      <th>137</th>\n",
       "      <td>6.4</td>\n",
       "      <td>3.1</td>\n",
       "      <td>5.5</td>\n",
       "      <td>1.8</td>\n",
       "      <td>virginica</td>\n",
       "    </tr>\n",
       "    <tr>\n",
       "      <th>138</th>\n",
       "      <td>6.0</td>\n",
       "      <td>3.0</td>\n",
       "      <td>4.8</td>\n",
       "      <td>1.8</td>\n",
       "      <td>virginica</td>\n",
       "    </tr>\n",
       "    <tr>\n",
       "      <th>139</th>\n",
       "      <td>6.9</td>\n",
       "      <td>3.1</td>\n",
       "      <td>5.4</td>\n",
       "      <td>2.1</td>\n",
       "      <td>virginica</td>\n",
       "    </tr>\n",
       "    <tr>\n",
       "      <th>140</th>\n",
       "      <td>6.7</td>\n",
       "      <td>3.1</td>\n",
       "      <td>5.6</td>\n",
       "      <td>2.4</td>\n",
       "      <td>virginica</td>\n",
       "    </tr>\n",
       "    <tr>\n",
       "      <th>141</th>\n",
       "      <td>6.9</td>\n",
       "      <td>3.1</td>\n",
       "      <td>5.1</td>\n",
       "      <td>2.3</td>\n",
       "      <td>virginica</td>\n",
       "    </tr>\n",
       "    <tr>\n",
       "      <th>142</th>\n",
       "      <td>5.8</td>\n",
       "      <td>2.7</td>\n",
       "      <td>5.1</td>\n",
       "      <td>1.9</td>\n",
       "      <td>virginica</td>\n",
       "    </tr>\n",
       "    <tr>\n",
       "      <th>143</th>\n",
       "      <td>6.8</td>\n",
       "      <td>3.2</td>\n",
       "      <td>5.9</td>\n",
       "      <td>2.3</td>\n",
       "      <td>virginica</td>\n",
       "    </tr>\n",
       "    <tr>\n",
       "      <th>144</th>\n",
       "      <td>6.7</td>\n",
       "      <td>3.3</td>\n",
       "      <td>5.7</td>\n",
       "      <td>2.5</td>\n",
       "      <td>virginica</td>\n",
       "    </tr>\n",
       "    <tr>\n",
       "      <th>145</th>\n",
       "      <td>6.7</td>\n",
       "      <td>3.0</td>\n",
       "      <td>5.2</td>\n",
       "      <td>2.3</td>\n",
       "      <td>virginica</td>\n",
       "    </tr>\n",
       "    <tr>\n",
       "      <th>146</th>\n",
       "      <td>6.3</td>\n",
       "      <td>2.5</td>\n",
       "      <td>5.0</td>\n",
       "      <td>1.9</td>\n",
       "      <td>virginica</td>\n",
       "    </tr>\n",
       "    <tr>\n",
       "      <th>147</th>\n",
       "      <td>6.5</td>\n",
       "      <td>3.0</td>\n",
       "      <td>5.2</td>\n",
       "      <td>2.0</td>\n",
       "      <td>virginica</td>\n",
       "    </tr>\n",
       "    <tr>\n",
       "      <th>148</th>\n",
       "      <td>6.2</td>\n",
       "      <td>3.4</td>\n",
       "      <td>5.4</td>\n",
       "      <td>2.3</td>\n",
       "      <td>virginica</td>\n",
       "    </tr>\n",
       "    <tr>\n",
       "      <th>149</th>\n",
       "      <td>5.9</td>\n",
       "      <td>3.0</td>\n",
       "      <td>5.1</td>\n",
       "      <td>1.8</td>\n",
       "      <td>virginica</td>\n",
       "    </tr>\n",
       "  </tbody>\n",
       "</table>\n",
       "<p>150 rows × 5 columns</p>\n",
       "</div>"
      ],
      "text/plain": [
       "     sepal_length  sepal_width  petal_length  petal_width    species\n",
       "0             5.1          3.5           1.4          0.2     setosa\n",
       "1             4.9          3.0           1.4          0.2     setosa\n",
       "2             4.7          3.2           1.3          0.2     setosa\n",
       "3             4.6          3.1           1.5          0.2     setosa\n",
       "4             5.0          3.6           1.4          0.2     setosa\n",
       "5             5.4          3.9           1.7          0.4     setosa\n",
       "6             4.6          3.4           1.4          0.3     setosa\n",
       "7             5.0          3.4           1.5          0.2     setosa\n",
       "8             4.4          2.9           1.4          0.2     setosa\n",
       "9             4.9          3.1           1.5          0.1     setosa\n",
       "10            5.4          3.7           1.5          0.2     setosa\n",
       "11            4.8          3.4           1.6          0.2     setosa\n",
       "12            4.8          3.0           1.4          0.1     setosa\n",
       "13            4.3          3.0           1.1          0.1     setosa\n",
       "14            5.8          4.0           1.2          0.2     setosa\n",
       "15            5.7          4.4           1.5          0.4     setosa\n",
       "16            5.4          3.9           1.3          0.4     setosa\n",
       "17            5.1          3.5           1.4          0.3     setosa\n",
       "18            5.7          3.8           1.7          0.3     setosa\n",
       "19            5.1          3.8           1.5          0.3     setosa\n",
       "20            5.4          3.4           1.7          0.2     setosa\n",
       "21            5.1          3.7           1.5          0.4     setosa\n",
       "22            4.6          3.6           1.0          0.2     setosa\n",
       "23            5.1          3.3           1.7          0.5     setosa\n",
       "24            4.8          3.4           1.9          0.2     setosa\n",
       "25            5.0          3.0           1.6          0.2     setosa\n",
       "26            5.0          3.4           1.6          0.4     setosa\n",
       "27            5.2          3.5           1.5          0.2     setosa\n",
       "28            5.2          3.4           1.4          0.2     setosa\n",
       "29            4.7          3.2           1.6          0.2     setosa\n",
       "..            ...          ...           ...          ...        ...\n",
       "120           6.9          3.2           5.7          2.3  virginica\n",
       "121           5.6          2.8           4.9          2.0  virginica\n",
       "122           7.7          2.8           6.7          2.0  virginica\n",
       "123           6.3          2.7           4.9          1.8  virginica\n",
       "124           6.7          3.3           5.7          2.1  virginica\n",
       "125           7.2          3.2           6.0          1.8  virginica\n",
       "126           6.2          2.8           4.8          1.8  virginica\n",
       "127           6.1          3.0           4.9          1.8  virginica\n",
       "128           6.4          2.8           5.6          2.1  virginica\n",
       "129           7.2          3.0           5.8          1.6  virginica\n",
       "130           7.4          2.8           6.1          1.9  virginica\n",
       "131           7.9          3.8           6.4          2.0  virginica\n",
       "132           6.4          2.8           5.6          2.2  virginica\n",
       "133           6.3          2.8           5.1          1.5  virginica\n",
       "134           6.1          2.6           5.6          1.4  virginica\n",
       "135           7.7          3.0           6.1          2.3  virginica\n",
       "136           6.3          3.4           5.6          2.4  virginica\n",
       "137           6.4          3.1           5.5          1.8  virginica\n",
       "138           6.0          3.0           4.8          1.8  virginica\n",
       "139           6.9          3.1           5.4          2.1  virginica\n",
       "140           6.7          3.1           5.6          2.4  virginica\n",
       "141           6.9          3.1           5.1          2.3  virginica\n",
       "142           5.8          2.7           5.1          1.9  virginica\n",
       "143           6.8          3.2           5.9          2.3  virginica\n",
       "144           6.7          3.3           5.7          2.5  virginica\n",
       "145           6.7          3.0           5.2          2.3  virginica\n",
       "146           6.3          2.5           5.0          1.9  virginica\n",
       "147           6.5          3.0           5.2          2.0  virginica\n",
       "148           6.2          3.4           5.4          2.3  virginica\n",
       "149           5.9          3.0           5.1          1.8  virginica\n",
       "\n",
       "[150 rows x 5 columns]"
      ]
     },
     "execution_count": 4,
     "metadata": {},
     "output_type": "execute_result"
    }
   ],
   "source": [
    "data"
   ]
  },
  {
   "cell_type": "markdown",
   "metadata": {},
   "source": [
    "#### Set the labels. We will try to predict the 'virginica' label"
   ]
  },
  {
   "cell_type": "code",
   "execution_count": 5,
   "metadata": {},
   "outputs": [],
   "source": [
    "data['y'] = 0\n",
    "data.loc[data['species'] == 'virginica', 'y'] = 1"
   ]
  },
  {
   "cell_type": "markdown",
   "metadata": {},
   "source": [
    "Extract the data as arrays"
   ]
  },
  {
   "cell_type": "code",
   "execution_count": 6,
   "metadata": {},
   "outputs": [
    {
     "data": {
      "text/html": [
       "<div>\n",
       "<style scoped>\n",
       "    .dataframe tbody tr th:only-of-type {\n",
       "        vertical-align: middle;\n",
       "    }\n",
       "\n",
       "    .dataframe tbody tr th {\n",
       "        vertical-align: top;\n",
       "    }\n",
       "\n",
       "    .dataframe thead th {\n",
       "        text-align: right;\n",
       "    }\n",
       "</style>\n",
       "<table border=\"1\" class=\"dataframe\">\n",
       "  <thead>\n",
       "    <tr style=\"text-align: right;\">\n",
       "      <th></th>\n",
       "      <th>sepal_length</th>\n",
       "      <th>sepal_width</th>\n",
       "      <th>petal_length</th>\n",
       "      <th>petal_width</th>\n",
       "      <th>species</th>\n",
       "      <th>y</th>\n",
       "    </tr>\n",
       "  </thead>\n",
       "  <tbody>\n",
       "    <tr>\n",
       "      <th>145</th>\n",
       "      <td>6.7</td>\n",
       "      <td>3.0</td>\n",
       "      <td>5.2</td>\n",
       "      <td>2.3</td>\n",
       "      <td>virginica</td>\n",
       "      <td>1</td>\n",
       "    </tr>\n",
       "    <tr>\n",
       "      <th>146</th>\n",
       "      <td>6.3</td>\n",
       "      <td>2.5</td>\n",
       "      <td>5.0</td>\n",
       "      <td>1.9</td>\n",
       "      <td>virginica</td>\n",
       "      <td>1</td>\n",
       "    </tr>\n",
       "    <tr>\n",
       "      <th>147</th>\n",
       "      <td>6.5</td>\n",
       "      <td>3.0</td>\n",
       "      <td>5.2</td>\n",
       "      <td>2.0</td>\n",
       "      <td>virginica</td>\n",
       "      <td>1</td>\n",
       "    </tr>\n",
       "    <tr>\n",
       "      <th>148</th>\n",
       "      <td>6.2</td>\n",
       "      <td>3.4</td>\n",
       "      <td>5.4</td>\n",
       "      <td>2.3</td>\n",
       "      <td>virginica</td>\n",
       "      <td>1</td>\n",
       "    </tr>\n",
       "    <tr>\n",
       "      <th>149</th>\n",
       "      <td>5.9</td>\n",
       "      <td>3.0</td>\n",
       "      <td>5.1</td>\n",
       "      <td>1.8</td>\n",
       "      <td>virginica</td>\n",
       "      <td>1</td>\n",
       "    </tr>\n",
       "  </tbody>\n",
       "</table>\n",
       "</div>"
      ],
      "text/plain": [
       "     sepal_length  sepal_width  petal_length  petal_width    species  y\n",
       "145           6.7          3.0           5.2          2.3  virginica  1\n",
       "146           6.3          2.5           5.0          1.9  virginica  1\n",
       "147           6.5          3.0           5.2          2.0  virginica  1\n",
       "148           6.2          3.4           5.4          2.3  virginica  1\n",
       "149           5.9          3.0           5.1          1.8  virginica  1"
      ]
     },
     "execution_count": 6,
     "metadata": {},
     "output_type": "execute_result"
    }
   ],
   "source": [
    "data.tail()"
   ]
  },
  {
   "cell_type": "code",
   "execution_count": 7,
   "metadata": {},
   "outputs": [],
   "source": [
    "X = data[['sepal_length','sepal_width','petal_length','petal_width']].values\n",
    "y = data['y'].values.reshape(-1,1)"
   ]
  },
  {
   "cell_type": "markdown",
   "metadata": {},
   "source": [
    "### Utility functions"
   ]
  },
  {
   "cell_type": "markdown",
   "metadata": {},
   "source": [
    "Logistic function"
   ]
  },
  {
   "cell_type": "code",
   "execution_count": 8,
   "metadata": {},
   "outputs": [],
   "source": [
    "def logistic(z):\n",
    "    return 1./(1+np.exp(-z))"
   ]
  },
  {
   "cell_type": "markdown",
   "metadata": {},
   "source": [
    "### Get matrix dimensions and add the bias column"
   ]
  },
  {
   "cell_type": "code",
   "execution_count": 9,
   "metadata": {},
   "outputs": [],
   "source": [
    "M, N = X.shape\n",
    "X = np.concatenate((np.ones((M, 1)), X), axis=1)"
   ]
  },
  {
   "cell_type": "markdown",
   "metadata": {},
   "source": [
    "### Now we have a few more features"
   ]
  },
  {
   "cell_type": "code",
   "execution_count": 10,
   "metadata": {},
   "outputs": [
    {
     "name": "stdout",
     "output_type": "stream",
     "text": [
      "[[1.  5.1 3.5 1.4 0.2]\n",
      " [1.  4.9 3.  1.4 0.2]\n",
      " [1.  4.7 3.2 1.3 0.2]\n",
      " [1.  4.6 3.1 1.5 0.2]\n",
      " [1.  5.  3.6 1.4 0.2]\n",
      " [1.  5.4 3.9 1.7 0.4]\n",
      " [1.  4.6 3.4 1.4 0.3]\n",
      " [1.  5.  3.4 1.5 0.2]\n",
      " [1.  4.4 2.9 1.4 0.2]\n",
      " [1.  4.9 3.1 1.5 0.1]\n",
      " [1.  5.4 3.7 1.5 0.2]\n",
      " [1.  4.8 3.4 1.6 0.2]\n",
      " [1.  4.8 3.  1.4 0.1]\n",
      " [1.  4.3 3.  1.1 0.1]\n",
      " [1.  5.8 4.  1.2 0.2]\n",
      " [1.  5.7 4.4 1.5 0.4]\n",
      " [1.  5.4 3.9 1.3 0.4]\n",
      " [1.  5.1 3.5 1.4 0.3]\n",
      " [1.  5.7 3.8 1.7 0.3]\n",
      " [1.  5.1 3.8 1.5 0.3]\n",
      " [1.  5.4 3.4 1.7 0.2]\n",
      " [1.  5.1 3.7 1.5 0.4]\n",
      " [1.  4.6 3.6 1.  0.2]\n",
      " [1.  5.1 3.3 1.7 0.5]\n",
      " [1.  4.8 3.4 1.9 0.2]\n",
      " [1.  5.  3.  1.6 0.2]\n",
      " [1.  5.  3.4 1.6 0.4]\n",
      " [1.  5.2 3.5 1.5 0.2]\n",
      " [1.  5.2 3.4 1.4 0.2]\n",
      " [1.  4.7 3.2 1.6 0.2]\n",
      " [1.  4.8 3.1 1.6 0.2]\n",
      " [1.  5.4 3.4 1.5 0.4]\n",
      " [1.  5.2 4.1 1.5 0.1]\n",
      " [1.  5.5 4.2 1.4 0.2]\n",
      " [1.  4.9 3.1 1.5 0.1]\n",
      " [1.  5.  3.2 1.2 0.2]\n",
      " [1.  5.5 3.5 1.3 0.2]\n",
      " [1.  4.9 3.1 1.5 0.1]\n",
      " [1.  4.4 3.  1.3 0.2]\n",
      " [1.  5.1 3.4 1.5 0.2]\n",
      " [1.  5.  3.5 1.3 0.3]\n",
      " [1.  4.5 2.3 1.3 0.3]\n",
      " [1.  4.4 3.2 1.3 0.2]\n",
      " [1.  5.  3.5 1.6 0.6]\n",
      " [1.  5.1 3.8 1.9 0.4]\n",
      " [1.  4.8 3.  1.4 0.3]\n",
      " [1.  5.1 3.8 1.6 0.2]\n",
      " [1.  4.6 3.2 1.4 0.2]\n",
      " [1.  5.3 3.7 1.5 0.2]\n",
      " [1.  5.  3.3 1.4 0.2]\n",
      " [1.  7.  3.2 4.7 1.4]\n",
      " [1.  6.4 3.2 4.5 1.5]\n",
      " [1.  6.9 3.1 4.9 1.5]\n",
      " [1.  5.5 2.3 4.  1.3]\n",
      " [1.  6.5 2.8 4.6 1.5]\n",
      " [1.  5.7 2.8 4.5 1.3]\n",
      " [1.  6.3 3.3 4.7 1.6]\n",
      " [1.  4.9 2.4 3.3 1. ]\n",
      " [1.  6.6 2.9 4.6 1.3]\n",
      " [1.  5.2 2.7 3.9 1.4]\n",
      " [1.  5.  2.  3.5 1. ]\n",
      " [1.  5.9 3.  4.2 1.5]\n",
      " [1.  6.  2.2 4.  1. ]\n",
      " [1.  6.1 2.9 4.7 1.4]\n",
      " [1.  5.6 2.9 3.6 1.3]\n",
      " [1.  6.7 3.1 4.4 1.4]\n",
      " [1.  5.6 3.  4.5 1.5]\n",
      " [1.  5.8 2.7 4.1 1. ]\n",
      " [1.  6.2 2.2 4.5 1.5]\n",
      " [1.  5.6 2.5 3.9 1.1]\n",
      " [1.  5.9 3.2 4.8 1.8]\n",
      " [1.  6.1 2.8 4.  1.3]\n",
      " [1.  6.3 2.5 4.9 1.5]\n",
      " [1.  6.1 2.8 4.7 1.2]\n",
      " [1.  6.4 2.9 4.3 1.3]\n",
      " [1.  6.6 3.  4.4 1.4]\n",
      " [1.  6.8 2.8 4.8 1.4]\n",
      " [1.  6.7 3.  5.  1.7]\n",
      " [1.  6.  2.9 4.5 1.5]\n",
      " [1.  5.7 2.6 3.5 1. ]\n",
      " [1.  5.5 2.4 3.8 1.1]\n",
      " [1.  5.5 2.4 3.7 1. ]\n",
      " [1.  5.8 2.7 3.9 1.2]\n",
      " [1.  6.  2.7 5.1 1.6]\n",
      " [1.  5.4 3.  4.5 1.5]\n",
      " [1.  6.  3.4 4.5 1.6]\n",
      " [1.  6.7 3.1 4.7 1.5]\n",
      " [1.  6.3 2.3 4.4 1.3]\n",
      " [1.  5.6 3.  4.1 1.3]\n",
      " [1.  5.5 2.5 4.  1.3]\n",
      " [1.  5.5 2.6 4.4 1.2]\n",
      " [1.  6.1 3.  4.6 1.4]\n",
      " [1.  5.8 2.6 4.  1.2]\n",
      " [1.  5.  2.3 3.3 1. ]\n",
      " [1.  5.6 2.7 4.2 1.3]\n",
      " [1.  5.7 3.  4.2 1.2]\n",
      " [1.  5.7 2.9 4.2 1.3]\n",
      " [1.  6.2 2.9 4.3 1.3]\n",
      " [1.  5.1 2.5 3.  1.1]\n",
      " [1.  5.7 2.8 4.1 1.3]\n",
      " [1.  6.3 3.3 6.  2.5]\n",
      " [1.  5.8 2.7 5.1 1.9]\n",
      " [1.  7.1 3.  5.9 2.1]\n",
      " [1.  6.3 2.9 5.6 1.8]\n",
      " [1.  6.5 3.  5.8 2.2]\n",
      " [1.  7.6 3.  6.6 2.1]\n",
      " [1.  4.9 2.5 4.5 1.7]\n",
      " [1.  7.3 2.9 6.3 1.8]\n",
      " [1.  6.7 2.5 5.8 1.8]\n",
      " [1.  7.2 3.6 6.1 2.5]\n",
      " [1.  6.5 3.2 5.1 2. ]\n",
      " [1.  6.4 2.7 5.3 1.9]\n",
      " [1.  6.8 3.  5.5 2.1]\n",
      " [1.  5.7 2.5 5.  2. ]\n",
      " [1.  5.8 2.8 5.1 2.4]\n",
      " [1.  6.4 3.2 5.3 2.3]\n",
      " [1.  6.5 3.  5.5 1.8]\n",
      " [1.  7.7 3.8 6.7 2.2]\n",
      " [1.  7.7 2.6 6.9 2.3]\n",
      " [1.  6.  2.2 5.  1.5]\n",
      " [1.  6.9 3.2 5.7 2.3]\n",
      " [1.  5.6 2.8 4.9 2. ]\n",
      " [1.  7.7 2.8 6.7 2. ]\n",
      " [1.  6.3 2.7 4.9 1.8]\n",
      " [1.  6.7 3.3 5.7 2.1]\n",
      " [1.  7.2 3.2 6.  1.8]\n",
      " [1.  6.2 2.8 4.8 1.8]\n",
      " [1.  6.1 3.  4.9 1.8]\n",
      " [1.  6.4 2.8 5.6 2.1]\n",
      " [1.  7.2 3.  5.8 1.6]\n",
      " [1.  7.4 2.8 6.1 1.9]\n",
      " [1.  7.9 3.8 6.4 2. ]\n",
      " [1.  6.4 2.8 5.6 2.2]\n",
      " [1.  6.3 2.8 5.1 1.5]\n",
      " [1.  6.1 2.6 5.6 1.4]\n",
      " [1.  7.7 3.  6.1 2.3]\n",
      " [1.  6.3 3.4 5.6 2.4]\n",
      " [1.  6.4 3.1 5.5 1.8]\n",
      " [1.  6.  3.  4.8 1.8]\n",
      " [1.  6.9 3.1 5.4 2.1]\n",
      " [1.  6.7 3.1 5.6 2.4]\n",
      " [1.  6.9 3.1 5.1 2.3]\n",
      " [1.  5.8 2.7 5.1 1.9]\n",
      " [1.  6.8 3.2 5.9 2.3]\n",
      " [1.  6.7 3.3 5.7 2.5]\n",
      " [1.  6.7 3.  5.2 2.3]\n",
      " [1.  6.3 2.5 5.  1.9]\n",
      " [1.  6.5 3.  5.2 2. ]\n",
      " [1.  6.2 3.4 5.4 2.3]\n",
      " [1.  5.9 3.  5.1 1.8]]\n"
     ]
    }
   ],
   "source": [
    "print(X)"
   ]
  },
  {
   "cell_type": "markdown",
   "metadata": {},
   "source": [
    "#### Set the training parameters and initialize the weight matrix"
   ]
  },
  {
   "cell_type": "code",
   "execution_count": 11,
   "metadata": {},
   "outputs": [],
   "source": [
    "alpha = 0.5\n",
    "epsilon = 0.12"
   ]
  },
  {
   "cell_type": "code",
   "execution_count": 12,
   "metadata": {},
   "outputs": [],
   "source": [
    "weights = 2*np.random.rand(N+1, 1)*epsilon - epsilon"
   ]
  },
  {
   "cell_type": "markdown",
   "metadata": {},
   "source": [
    "## Training procedure"
   ]
  },
  {
   "cell_type": "code",
   "execution_count": 13,
   "metadata": {},
   "outputs": [
    {
     "name": "stdout",
     "output_type": "stream",
     "text": [
      "10 [[0.85967953]] [[2.59346825]] [-0.38069311 -1.31346633 -1.24547118  0.73171913  0.60903529]\n",
      "20 [[2.19045594]] [[0.68055068]] [-0.52316232 -1.47724486 -1.55174862  1.5906725   1.15411386]\n",
      "30 [[2.10072195]] [[1.32128281]] [-0.65683789 -1.71067617 -1.78845817  2.15120887  1.56628452]\n",
      "40 [[1.89205729]] [[1.14641659]] [-0.78758932 -2.00289062 -1.99809281  2.52745284  1.896139  ]\n",
      "50 [[1.71473272]] [[0.96960292]] [-0.91458165 -2.28799971 -2.19613546  2.88136966  2.21331864]\n",
      "60 [[1.53905317]] [[0.79514638]] [-1.03856947 -2.56431069 -2.38759473  3.22600491  2.52367729]\n",
      "70 [[1.35980632]] [[0.62846873]] [-1.1584644  -2.82733699 -2.57100338  3.56180841  2.82657404]\n",
      "80 [[1.17416308]] [[0.47453581]] [-1.27237343 -3.07044955 -2.74278449  3.88548904  3.11884577]\n",
      "90 [[0.97492751]] [[0.33480951]] [-1.37750758 -3.28335138 -2.89724977  4.19176968  3.39507959]\n",
      "100 [[0.73611773]] [[0.2025702]] [-1.46827    -3.4432504  -3.02223997  4.47411939  3.64590757]\n",
      "110 [[0.35653213]] [[0.044936]] [-1.52415421 -3.46092247 -3.07071173  4.73685735  3.85242363]\n",
      "120 [[0.09601013]] [[0.00196533]] [-1.52829853 -3.32204903 -3.02064862  4.91097704  3.95869774]\n",
      "122 [[0.09308819]] [[0.00087729]] [-1.53094918 -3.31451857 -3.01867013  4.92213024  3.96882772]\n"
     ]
    }
   ],
   "source": [
    "oldJ = 0\n",
    "err = 1\n",
    "\n",
    "Js = []\n",
    "count = 0\n",
    "\n",
    "while err > 1e-3:\n",
    "    Zs = np.dot(X, weights)\n",
    "    Hs = logistic(Zs) # phi(z)\n",
    "    \n",
    "    deltas = alpha/M*np.dot(X.T, (Hs-y))\n",
    "    weights -= deltas\n",
    "\n",
    "    count += 1\n",
    "\n",
    "    # Cross Entropy\n",
    "    J = -1/M*(np.dot(y.T, np.log(Hs)) + np.dot(1-y.T, np.log(1-Hs)))\n",
    "    \n",
    "    Js.append(float(J))\n",
    "    err = np.abs(oldJ-J)\n",
    "    oldJ = J\n",
    "    \n",
    "    if count % 10 == 0:\n",
    "        print(count, J, err, weights.flatten())\n",
    "\n",
    "print(count, J, err, weights.flatten())"
   ]
  },
  {
   "cell_type": "markdown",
   "metadata": {},
   "source": [
    "## Solution exploration"
   ]
  },
  {
   "cell_type": "code",
   "execution_count": 14,
   "metadata": {},
   "outputs": [
    {
     "name": "stderr",
     "output_type": "stream",
     "text": [
      "C:\\Users\\Owner\\Anaconda\\lib\\site-packages\\matplotlib\\figure.py:2369: UserWarning: This figure includes Axes that are not compatible with tight_layout, so results might be incorrect.\n",
      "  warnings.warn(\"This figure includes Axes that are not compatible \"\n"
     ]
    },
    {
     "data": {
      "image/png": "[encoded data removed]",
      "text/plain": [
       "<Figure size 432x288 with 1 Axes>"
      ]
     },
     "metadata": {
      "needs_background": "light"
     },
     "output_type": "display_data"
    }
   ],
   "source": [
    "def plot_boundary(Zs, Hs, y):\n",
    "    data_fit = np.concatenate((Zs, Hs), axis=1)\n",
    "    data_fit.sort(axis = 0)\n",
    "\n",
    "    z = np.linspace(Zs.min(), Zs.max(), 100)\n",
    "\n",
    "    plt.plot(z, logistic(z), 'r-', label='Theory')\n",
    "    plt.plot(Zs, Hs, 'X', label='empirical', markersize=8)\n",
    "    plt.plot(Zs, y, 'd', label = 'data', markersize=8)\n",
    "    plt.xlabel('z')\n",
    "    plt.ylabel('h(z)')\n",
    "    #plt.title('Logistic Regression')\n",
    "    plt.legend()\n",
    "\n",
    "plot_boundary(Zs, Hs, y)"
   ]
  },
  {
   "cell_type": "markdown",
   "metadata": {},
   "source": [
    "Utility function to plot labeled points"
   ]
  },
  {
   "cell_type": "code",
   "execution_count": 15,
   "metadata": {},
   "outputs": [],
   "source": [
    "def plot_points(data, features, weights, label='y'):\n",
    "    plt.plot(data[features[0]][data[label]==0], \n",
    "             data[features[1]][data[label]==0], '*', label='y=0', markersize=8)\n",
    "    \n",
    "    plt.plot(data[features[0]][data[label]==1], \n",
    "             data[features[1]][data[label]==1], 'd', label='y=1', markersize=8)\n",
    "\n",
    "    plt.xlabel(features[0])\n",
    "    plt.ylabel(features[1])\n",
    "    plt.legend()"
   ]
  },
  {
   "cell_type": "code",
   "execution_count": 16,
   "metadata": {},
   "outputs": [
    {
     "name": "stderr",
     "output_type": "stream",
     "text": [
      "C:\\Users\\Owner\\Anaconda\\lib\\site-packages\\matplotlib\\figure.py:2369: UserWarning: This figure includes Axes that are not compatible with tight_layout, so results might be incorrect.\n",
      "  warnings.warn(\"This figure includes Axes that are not compatible \"\n"
     ]
    },
    {
     "data": {
      "image/png": "[encoded data removed]",
      "text/plain": [
       "<Figure size 432x288 with 1 Axes>"
      ]
     },
     "metadata": {
      "needs_background": "light"
     },
     "output_type": "display_data"
    }
   ],
   "source": [
    "plot_points(data, ['petal_width', 'petal_length'], weights)"
   ]
  },
  {
   "cell_type": "markdown",
   "metadata": {},
   "source": [
    "The separation bounday is not perfect here either"
   ]
  },
  {
   "cell_type": "code",
   "execution_count": 17,
   "metadata": {},
   "outputs": [
    {
     "name": "stderr",
     "output_type": "stream",
     "text": [
      "C:\\Users\\Owner\\Anaconda\\lib\\site-packages\\matplotlib\\figure.py:2369: UserWarning: This figure includes Axes that are not compatible with tight_layout, so results might be incorrect.\n",
      "  warnings.warn(\"This figure includes Axes that are not compatible \"\n"
     ]
    },
    {
     "data": {
      "image/png": "[encoded data removed]",
      "text/plain": [
       "<Figure size 432x288 with 1 Axes>"
      ]
     },
     "metadata": {
      "needs_background": "light"
     },
     "output_type": "display_data"
    }
   ],
   "source": [
    "plot_points(data, ['sepal_width', 'petal_length'], weights)"
   ]
  },
  {
   "cell_type": "code",
   "execution_count": 18,
   "metadata": {},
   "outputs": [
    {
     "name": "stderr",
     "output_type": "stream",
     "text": [
      "C:\\Users\\Owner\\Anaconda\\lib\\site-packages\\matplotlib\\figure.py:2369: UserWarning: This figure includes Axes that are not compatible with tight_layout, so results might be incorrect.\n",
      "  warnings.warn(\"This figure includes Axes that are not compatible \"\n"
     ]
    },
    {
     "data": {
      "image/png": "[encoded data removed]",
      "text/plain": [
       "<Figure size 432x288 with 1 Axes>"
      ]
     },
     "metadata": {
      "needs_background": "light"
     },
     "output_type": "display_data"
    }
   ],
   "source": [
    "def plot_boundary_threshold(Zs, Hs, y, threshold=0.5):\n",
    "    data_fit = np.concatenate((Zs, Hs), axis=1)\n",
    "    data_fit.sort(axis = 0)\n",
    "\n",
    "    z = np.linspace(Zs.min(), Zs.max(), 100)\n",
    "\n",
    "    plt.plot(z, logistic(z), 'r-', label='Theory')\n",
    "    plt.plot(Zs[Hs>threshold], Hs[Hs>threshold], 'X', label='empirical 1', markersize=8)\n",
    "    plt.plot(Zs[Hs<=threshold], Hs[Hs<=threshold], 's', label='empirical 0', markersize=8)\n",
    "\n",
    "    plt.plot(Zs, y, 'd', label = 'data', markersize=8)\n",
    "    plt.xlabel('z')\n",
    "    plt.ylabel('h(z)')    \n",
    "    plt.plot([Zs.min(), Zs.max()], [threshold, threshold],  lw=5, linestyle=':', color='darkgray')\n",
    "    plt.legend()\n",
    "\n",
    "plot_boundary_threshold(Zs, Hs, y, 0.7)"
   ]
  },
  {
   "cell_type": "markdown",
   "metadata": {},
   "source": [
    "## No Assignment !!! \n",
    "\n",
    "### Do it Yourself !!!\n",
    ">Use your data to experiment with regression by choosing one of three regression types.  \n",
    "> It's all up to You!!  \n",
    "\n",
    "\n",
    "### And Try running the following code and put comments (explanations) on each line of code and write a description of the output\n",
    "\n",
    "> It's all up to You!!  Not required!!!"
   ]
  },
  {
   "cell_type": "markdown",
   "metadata": {},
   "source": [
    "### MNIST "
   ]
  },
  {
   "cell_type": "code",
   "execution_count": 19,
   "metadata": {},
   "outputs": [
    {
     "name": "stdout",
     "output_type": "stream",
     "text": [
      "[0.00237792 0.95932017 0.00646385 0.00237792 0.00237792 0.00237792\n",
      " 0.00237792 0.01757056 0.00237792 0.00237792]\n"
     ]
    }
   ],
   "source": [
    "import numpy as np\n",
    "\n",
    "# softmax \n",
    "def softmax(x):\n",
    "    return np.exp(x) / np.sum(np.exp(x), axis=0)\n",
    "scores = [1, 7, 2, 1, 1, 1, 1, 3, 1, 1]\n",
    "print(softmax(scores))"
   ]
  },
  {
   "cell_type": "code",
   "execution_count": 20,
   "metadata": {},
   "outputs": [],
   "source": [
    "from __future__ import absolute_import, division, print_function, unicode_literals\n",
    "\n",
    "try:\n",
    "  %tensorflow_version 2.x\n",
    "except Exception:\n",
    "  pass"
   ]
  },
  {
   "cell_type": "code",
   "execution_count": 1,
   "metadata": {},
   "outputs": [
    {
     "name": "stderr",
     "output_type": "stream",
     "text": [
      "C:\\Users\\Owner\\miniconda3\\envs\\jeff_heaton_t81_park\\lib\\site-packages\\tensorboard\\compat\\tensorflow_stub\\dtypes.py:541: FutureWarning: Passing (type, 1) or '1type' as a synonym of type is deprecated; in a future version of numpy, it will be understood as (type, (1,)) / '(1,)type'.\n",
      "  _np_qint8 = np.dtype([(\"qint8\", np.int8, 1)])\n",
      "C:\\Users\\Owner\\miniconda3\\envs\\jeff_heaton_t81_park\\lib\\site-packages\\tensorboard\\compat\\tensorflow_stub\\dtypes.py:542: FutureWarning: Passing (type, 1) or '1type' as a synonym of type is deprecated; in a future version of numpy, it will be understood as (type, (1,)) / '(1,)type'.\n",
      "  _np_quint8 = np.dtype([(\"quint8\", np.uint8, 1)])\n",
      "C:\\Users\\Owner\\miniconda3\\envs\\jeff_heaton_t81_park\\lib\\site-packages\\tensorboard\\compat\\tensorflow_stub\\dtypes.py:543: FutureWarning: Passing (type, 1) or '1type' as a synonym of type is deprecated; in a future version of numpy, it will be understood as (type, (1,)) / '(1,)type'.\n",
      "  _np_qint16 = np.dtype([(\"qint16\", np.int16, 1)])\n",
      "C:\\Users\\Owner\\miniconda3\\envs\\jeff_heaton_t81_park\\lib\\site-packages\\tensorboard\\compat\\tensorflow_stub\\dtypes.py:544: FutureWarning: Passing (type, 1) or '1type' as a synonym of type is deprecated; in a future version of numpy, it will be understood as (type, (1,)) / '(1,)type'.\n",
      "  _np_quint16 = np.dtype([(\"quint16\", np.uint16, 1)])\n",
      "C:\\Users\\Owner\\miniconda3\\envs\\jeff_heaton_t81_park\\lib\\site-packages\\tensorboard\\compat\\tensorflow_stub\\dtypes.py:545: FutureWarning: Passing (type, 1) or '1type' as a synonym of type is deprecated; in a future version of numpy, it will be understood as (type, (1,)) / '(1,)type'.\n",
      "  _np_qint32 = np.dtype([(\"qint32\", np.int32, 1)])\n",
      "C:\\Users\\Owner\\miniconda3\\envs\\jeff_heaton_t81_park\\lib\\site-packages\\tensorboard\\compat\\tensorflow_stub\\dtypes.py:550: FutureWarning: Passing (type, 1) or '1type' as a synonym of type is deprecated; in a future version of numpy, it will be understood as (type, (1,)) / '(1,)type'.\n",
      "  np_resource = np.dtype([(\"resource\", np.ubyte, 1)])\n"
     ]
    }
   ],
   "source": [
    "import tensorflow as tf\n",
    "tf.random.set_seed(1)"
   ]
  },
  {
   "cell_type": "code",
   "execution_count": 2,
   "metadata": {},
   "outputs": [],
   "source": [
    "import tensorflow as tf\n",
    "from tensorflow.keras.models import Sequential\n",
    "from tensorflow.keras.layers import Flatten\n",
    "from tensorflow.keras.layers import Dense\n",
    "from tensorflow.keras.layers import Activation"
   ]
  },
  {
   "cell_type": "markdown",
   "metadata": {},
   "source": [
    "# Get MNIST Data"
   ]
  },
  {
   "cell_type": "code",
   "execution_count": 3,
   "metadata": {},
   "outputs": [],
   "source": [
    "(x_train, y_train), (x_test, y_test) = tf.keras.datasets.mnist.load_data()\n",
    "x_train = x_train.astype('float32')\n",
    "x_test = x_test.astype('float32')"
   ]
  },
  {
   "cell_type": "code",
   "execution_count": 4,
   "metadata": {},
   "outputs": [],
   "source": [
    "gray_scale = 255\n",
    "x_train /= gray_scale\n",
    "x_test /= gray_scale"
   ]
  },
  {
   "cell_type": "code",
   "execution_count": 5,
   "metadata": {},
   "outputs": [
    {
     "data": {
      "text/plain": [
       "array([[[0., 0., 0., ..., 0., 0., 0.],\n",
       "        [0., 0., 0., ..., 0., 0., 0.],\n",
       "        [0., 0., 0., ..., 0., 0., 0.],\n",
       "        ...,\n",
       "        [0., 0., 0., ..., 0., 0., 0.],\n",
       "        [0., 0., 0., ..., 0., 0., 0.],\n",
       "        [0., 0., 0., ..., 0., 0., 0.]],\n",
       "\n",
       "       [[0., 0., 0., ..., 0., 0., 0.],\n",
       "        [0., 0., 0., ..., 0., 0., 0.],\n",
       "        [0., 0., 0., ..., 0., 0., 0.],\n",
       "        ...,\n",
       "        [0., 0., 0., ..., 0., 0., 0.],\n",
       "        [0., 0., 0., ..., 0., 0., 0.],\n",
       "        [0., 0., 0., ..., 0., 0., 0.]],\n",
       "\n",
       "       [[0., 0., 0., ..., 0., 0., 0.],\n",
       "        [0., 0., 0., ..., 0., 0., 0.],\n",
       "        [0., 0., 0., ..., 0., 0., 0.],\n",
       "        ...,\n",
       "        [0., 0., 0., ..., 0., 0., 0.],\n",
       "        [0., 0., 0., ..., 0., 0., 0.],\n",
       "        [0., 0., 0., ..., 0., 0., 0.]],\n",
       "\n",
       "       ...,\n",
       "\n",
       "       [[0., 0., 0., ..., 0., 0., 0.],\n",
       "        [0., 0., 0., ..., 0., 0., 0.],\n",
       "        [0., 0., 0., ..., 0., 0., 0.],\n",
       "        ...,\n",
       "        [0., 0., 0., ..., 0., 0., 0.],\n",
       "        [0., 0., 0., ..., 0., 0., 0.],\n",
       "        [0., 0., 0., ..., 0., 0., 0.]],\n",
       "\n",
       "       [[0., 0., 0., ..., 0., 0., 0.],\n",
       "        [0., 0., 0., ..., 0., 0., 0.],\n",
       "        [0., 0., 0., ..., 0., 0., 0.],\n",
       "        ...,\n",
       "        [0., 0., 0., ..., 0., 0., 0.],\n",
       "        [0., 0., 0., ..., 0., 0., 0.],\n",
       "        [0., 0., 0., ..., 0., 0., 0.]],\n",
       "\n",
       "       [[0., 0., 0., ..., 0., 0., 0.],\n",
       "        [0., 0., 0., ..., 0., 0., 0.],\n",
       "        [0., 0., 0., ..., 0., 0., 0.],\n",
       "        ...,\n",
       "        [0., 0., 0., ..., 0., 0., 0.],\n",
       "        [0., 0., 0., ..., 0., 0., 0.],\n",
       "        [0., 0., 0., ..., 0., 0., 0.]]], dtype=float32)"
      ]
     },
     "execution_count": 5,
     "metadata": {},
     "output_type": "execute_result"
    }
   ],
   "source": [
    "x_test"
   ]
  },
  {
   "cell_type": "markdown",
   "metadata": {},
   "source": [
    "# MLP Model for classifiation"
   ]
  },
  {
   "cell_type": "code",
   "execution_count": 6,
   "metadata": {},
   "outputs": [],
   "source": [
    "model = Sequential([\n",
    "    Flatten(input_shape=(28, 28)),    # reshape 28 row x 28 column data to Flatten (28*28 rows)\n",
    "    Dense(256, activation='sigmoid'), # dense layer 1\n",
    "    Dense(128, activation='sigmoid'), # dense layer 2\n",
    "    Dense(10, activation='softmax'),  # dense layer 3\n",
    "])\n",
    "\n",
    "model.compile(optimizer='adam',\n",
    "              loss='sparse_categorical_crossentropy',\n",
    "              metrics=['accuracy'])"
   ]
  },
  {
   "cell_type": "markdown",
   "metadata": {},
   "source": [
    "# Train"
   ]
  },
  {
   "cell_type": "code",
   "execution_count": 7,
   "metadata": {},
   "outputs": [
    {
     "name": "stdout",
     "output_type": "stream",
     "text": [
      "Epoch 1/10\n",
      "24/24 [==============================] - 1s 40ms/step - loss: 2.2103 - accuracy: 0.2821 - val_loss: 1.6765 - val_accuracy: 0.6772\n",
      "Epoch 2/10\n",
      "24/24 [==============================] - 0s 18ms/step - loss: 1.4961 - accuracy: 0.6937 - val_loss: 0.9877 - val_accuracy: 0.8015\n",
      "Epoch 3/10\n",
      "24/24 [==============================] - 0s 18ms/step - loss: 0.9065 - accuracy: 0.8072 - val_loss: 0.6429 - val_accuracy: 0.8677\n",
      "Epoch 4/10\n",
      "24/24 [==============================] - 0s 17ms/step - loss: 0.6213 - accuracy: 0.8629 - val_loss: 0.4766 - val_accuracy: 0.8901\n",
      "Epoch 5/10\n",
      "24/24 [==============================] - 0s 17ms/step - loss: 0.4816 - accuracy: 0.8846 - val_loss: 0.3923 - val_accuracy: 0.9030\n",
      "Epoch 6/10\n",
      "24/24 [==============================] - 0s 17ms/step - loss: 0.4052 - accuracy: 0.8976 - val_loss: 0.3438 - val_accuracy: 0.9107\n",
      "Epoch 7/10\n",
      "24/24 [==============================] - 0s 17ms/step - loss: 0.3545 - accuracy: 0.9056 - val_loss: 0.3120 - val_accuracy: 0.9163\n",
      "Epoch 8/10\n",
      "24/24 [==============================] - 0s 18ms/step - loss: 0.3203 - accuracy: 0.9130 - val_loss: 0.2903 - val_accuracy: 0.9215\n",
      "Epoch 9/10\n",
      "24/24 [==============================] - 0s 18ms/step - loss: 0.3051 - accuracy: 0.9151 - val_loss: 0.2714 - val_accuracy: 0.9253\n",
      "Epoch 10/10\n",
      "24/24 [==============================] - 0s 18ms/step - loss: 0.2806 - accuracy: 0.9214 - val_loss: 0.2568 - val_accuracy: 0.9292\n"
     ]
    },
    {
     "data": {
      "text/plain": [
       "<tensorflow.python.keras.callbacks.History at 0x14c820894e0>"
      ]
     },
     "execution_count": 7,
     "metadata": {},
     "output_type": "execute_result"
    }
   ],
   "source": [
    "model.fit(x_train, y_train, epochs=10, batch_size=2000, validation_split = 0.2)"
   ]
  },
  {
   "cell_type": "markdown",
   "metadata": {},
   "source": [
    "# Test"
   ]
  },
  {
   "cell_type": "code",
   "execution_count": 8,
   "metadata": {},
   "outputs": [
    {
     "name": "stdout",
     "output_type": "stream",
     "text": [
      "test loss, test acc: [0.26460137963294983, 0.9257000088691711]\n"
     ]
    }
   ],
   "source": [
    "results = model.evaluate(x_test,  y_test, verbose = 0)\n",
    "\n",
    "print('test loss, test acc:', results)"
   ]
  },
  {
   "cell_type": "code",
   "execution_count": null,
   "metadata": {},
   "outputs": [],
   "source": []
  }
 ],
 "metadata": {
  "kernelspec": {
   "display_name": "Python 3.6 (tensorflow)",
   "language": "python",
   "name": "jeff_heaton_t81_park"
  },
  "language_info": {
   "codemirror_mode": {
    "name": "ipython",
    "version": 3
   },
   "file_extension": ".py",
   "mimetype": "text/x-python",
   "name": "python",
   "nbconvert_exporter": "python",
   "pygments_lexer": "ipython3",
   "version": "3.6.10"
  }
 },
 "nbformat": 4,
 "nbformat_minor": 2
}
