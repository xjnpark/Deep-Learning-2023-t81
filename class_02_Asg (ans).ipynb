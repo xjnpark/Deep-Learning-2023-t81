{
 "cells": [
  {
   "cell_type": "markdown",
   "metadata": {},
   "source": [
    "## Assignment 2 (Ans)\n",
    "\n",
    "* Python programming"
   ]
  },
  {
   "cell_type": "markdown",
   "metadata": {},
   "source": [
    "### Problem 1\n",
    "\n",
    ">You recently created a new coding study group.  \n",
    "You study 4 times a month, 3 times online and 1 time offline.  \n",
    "Write a program that sets a date for an offline meeting and dates for on line meetings that meets the conditions below.\n",
    ">\n",
    ">>Condition 1: Pick a date for offline and dates for online randomly (so as not to overlap)   \n",
    "Condition 2: The date of each month is determined within the 28th day.  \n",
    "Condition 3: Excluding the 1st to 3rd of this month as you need to prepare for study \n",
    ">>    "
   ]
  },
  {
   "cell_type": "code",
   "execution_count": 31,
   "metadata": {},
   "outputs": [
    {
     "name": "stdout",
     "output_type": "stream",
     "text": [
      "online study meetings  = [4, 8, 14]th of this month.\n",
      "offline study meeting = 9th of this month.\n"
     ]
    }
   ],
   "source": [
    "from random import *\n",
    "\n",
    "date = list(range(4,29)) #random\n",
    "off_date = choice(date)\n",
    "date.remove(off_date)\n",
    "on_date = sorted(sample(date,3))\n",
    "\n",
    "print(\"online study meetings  = \" + str(on_date) + \"th of this month.\" )\n",
    "print(\"offline study meeting = \" + str(off_date) + \"th of this month.\" )"
   ]
  },
  {
   "cell_type": "markdown",
   "metadata": {},
   "source": [
    "### Problem 2\n",
    "> #### Use the code above to print out the date of the on/off meeting from March to June and save it as a txt file."
   ]
  },
  {
   "cell_type": "code",
   "execution_count": 77,
   "metadata": {},
   "outputs": [
    {
     "name": "stdout",
     "output_type": "stream",
     "text": [
      "Mar    offline meeting date :           23 th \n",
      "-----   online meeting date :  [6, 12, 20] th\n",
      "\n",
      "April  offline meeting date :           16 th \n",
      "-----   online meeting date :  [7, 27, 28] th\n",
      "\n",
      "May    offline meeting date :           23 th \n",
      "-----   online meeting date :   [5, 9, 12] th\n",
      "\n",
      "June   offline meeting date :           22 th \n",
      "-----   online meeting date :   [5, 9, 16] th\n",
      "\n"
     ]
    }
   ],
   "source": [
    "from random import *\n",
    "\n",
    "mo = [\"Mar\",\"April\",\"May\",\"June\" ]\n",
    "\n",
    "with open(\"./data/2023DL_Asgn02.txt\", \"w\", encoding=\"utf-8\") as fw:\n",
    "\n",
    "    for m in mo:\n",
    "        date = list(range(4,29)) #random\n",
    "        off_date = choice(date)\n",
    "        date.remove(off_date)\n",
    "        on_date = sorted(sample(date,3))\n",
    "\n",
    "        print(m.ljust(5) + \" offline meeting date :\".rjust(24), str(off_date).rjust(12),\"th \")\n",
    "        print(\"{0:->5}\".format(\"\") + \" online meeting date :\".rjust(24), str(on_date).rjust(12), \"th\\n\")\n",
    "        print(m.ljust(5) + \" offline meeting date :\".rjust(24), str(off_date).rjust(12),\"th \", file=fw)\n",
    "        print(\"{0:->5}\".format(\"\") + \" online meeting date :\".rjust(24), str(on_date).rjust(12), \"th\\n\", file=fw)        "
   ]
  },
  {
   "cell_type": "code",
   "execution_count": null,
   "metadata": {},
   "outputs": [],
   "source": []
  }
 ],
 "metadata": {
  "anaconda-cloud": {},
  "kernelspec": {
   "display_name": "Python 3.6 (tensorflow)",
   "language": "python",
   "name": "jeff_heaton_t81_park"
  },
  "language_info": {
   "codemirror_mode": {
    "name": "ipython",
    "version": 3
   },
   "file_extension": ".py",
   "mimetype": "text/x-python",
   "name": "python",
   "nbconvert_exporter": "python",
   "pygments_lexer": "ipython3",
   "version": "3.6.10"
  }
 },
 "nbformat": 4,
 "nbformat_minor": 4
}
