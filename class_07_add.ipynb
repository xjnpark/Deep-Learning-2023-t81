{
 "cells": [
  {
   "cell_type": "markdown",
   "metadata": {},
   "source": [
    "# Class 07 Add "
   ]
  },
  {
   "cell_type": "markdown",
   "metadata": {},
   "source": [
    "# 01 CNN Overall structure\n",
    "(Convolution: Inverting and moving one of the two functions and continuously integrating the product with the other function)  \n",
    "(합성곱 : 두 함수 중 하나를 반전, 이동시켜가며 나머지 함수와의 곱을 연이어 적분하는 것)    \n",
    "* The neural networks we have seen so far have been coupled with all neurons in adjacent layers. This is called fully-connected, and it is implemented under the name Affine layer.  \n",
    "* **_A convolutional layer and a pooling layer are added to CNN_**.  \n",
    "* Affine-ReLU is replaced by Conv-ReLU-(Pooling), and layers close to the output can use Affine-ReLU configurations. \n",
    "* The output layer uses an Affine-Softmax combination."
   ]
  },
  {
   "cell_type": "markdown",
   "metadata": {},
   "source": [
    "# CNN PDF"
   ]
  },
  {
   "cell_type": "code",
   "execution_count": null,
   "metadata": {},
   "outputs": [],
   "source": []
  }
 ],
 "metadata": {
  "anaconda-cloud": {},
  "kernelspec": {
   "display_name": "Python 3.6 (tensorflow)",
   "language": "python",
   "name": "jeff_heaton_t81_park"
  },
  "language_info": {
   "codemirror_mode": {
    "name": "ipython",
    "version": 3
   },
   "file_extension": ".py",
   "mimetype": "text/x-python",
   "name": "python",
   "nbconvert_exporter": "python",
   "pygments_lexer": "ipython3",
   "version": "3.6.10"
  }
 },
 "nbformat": 4,
 "nbformat_minor": 4
}
