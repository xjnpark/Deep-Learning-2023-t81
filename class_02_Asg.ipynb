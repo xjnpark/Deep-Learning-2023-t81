{
 "cells": [
  {
   "cell_type": "markdown",
   "metadata": {},
   "source": [
    "## Assignment 2 \n",
    "\n",
    "* Python programming"
   ]
  },
  {
   "cell_type": "markdown",
   "metadata": {},
   "source": [
    "### Problem 1\n",
    "\n",
    ">You recently created a new coding study group.  \n",
    "You study 4 times a month, 3 times online and 1 time offline.  \n",
    "Write a program that sets a date for an offline meeting and dates for on line meetings that meets the conditions below.\n",
    ">\n",
    ">>Condition 1: Pick a date for offline and dates for online randomly (so as not to overlap)   \n",
    "Condition 2: The date of each month is determined within the 28th day.  \n",
    "Condition 3: Excluding the 1st to 3rd of this month as you need to prepare for study \n",
    ">>    "
   ]
  },
  {
   "cell_type": "code",
   "execution_count": null,
   "metadata": {},
   "outputs": [],
   "source": [
    "from random import *\n",
    "\n",
    "date = \n",
    "\n",
    "print(\"online study meetings  = \"             )\n",
    "print(\"offline study meeting = \"                )"
   ]
  },
  {
   "cell_type": "markdown",
   "metadata": {},
   "source": [
    "### Problem 2\n",
    "> Use the code above to print out the date of the on/off meeting from March to June and save it as a pdf file."
   ]
  },
  {
   "cell_type": "code",
   "execution_count": null,
   "metadata": {},
   "outputs": [],
   "source": [
    "from random import *\n",
    "\n",
    "mo = [\"Mar\",\"April\",\"May\",\"June\" ]\n",
    "\n",
    "for m in mo:\n",
    "    date = \n",
    "    \n",
    "    \n",
    "    "
   ]
  },
  {
   "cell_type": "code",
   "execution_count": null,
   "metadata": {},
   "outputs": [],
   "source": [
    "'''\n",
    "Output the same as the following (save here and to a file) :\n",
    "\n",
    "Mar    offline meeting date :           23 th \n",
    "-----   online meeting date :  [6, 12, 20] th\n",
    "\n",
    "April  offline meeting date :           16 th \n",
    "-----   online meeting date :  [7, 27, 28] th\n",
    "\n",
    "May    offline meeting date :           23 th \n",
    "-----   online meeting date :   [5, 9, 12] th\n",
    "\n",
    "June   offline meeting date :           22 th \n",
    "-----   online meeting date :   [5, 9, 16] th\n",
    "'''    \n",
    "    \n",
    "    \n",
    "          "
   ]
  },
  {
   "cell_type": "markdown",
   "metadata": {},
   "source": [
    "###  Output the above code and result as a pdf file, upload it to LMS,   \n",
    "###  and submit the hardcopy at the start of the next class (2023.03.21)"
   ]
  }
 ],
 "metadata": {
  "anaconda-cloud": {},
  "kernelspec": {
   "display_name": "Python 3.6 (tensorflow)",
   "language": "python",
   "name": "jeff_heaton_t81_park"
  },
  "language_info": {
   "codemirror_mode": {
    "name": "ipython",
    "version": 3
   },
   "file_extension": ".py",
   "mimetype": "text/x-python",
   "name": "python",
   "nbconvert_exporter": "python",
   "pygments_lexer": "ipython3",
   "version": "3.6.10"
  }
 },
 "nbformat": 4,
 "nbformat_minor": 4
}
